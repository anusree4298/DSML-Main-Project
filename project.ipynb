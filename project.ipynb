{
  "nbformat": 4,
  "nbformat_minor": 0,
  "metadata": {
    "colab": {
      "provenance": []
    },
    "kernelspec": {
      "name": "python3",
      "display_name": "Python 3"
    },
    "language_info": {
      "name": "python"
    }
  },
  "cells": [
    {
      "cell_type": "markdown",
      "source": [
        "# **Main Project**"
      ],
      "metadata": {
        "id": "oVGrp0viNf9j"
      }
    },
    {
      "cell_type": "markdown",
      "source": [
        "# **About the Dataset**\n",
        "The Secondary Mushroom Dataset is a simulated mushroom data collection designed for binary classification tasks—specifically, distinguishing between edible and poisonous mushrooms. It is as an extension to the original UCI Mushroom Dataset, offering a more extensive and diverse set of features to support advanced machine learning applications"
      ],
      "metadata": {
        "id": "3PO6vShPSBZr"
      }
    },
    {
      "cell_type": "markdown",
      "source": [
        "# **Step 1: Acquire the dataset**\n",
        "  \n",
        "  Dataset link :https://archive.ics.uci.edu/dataset/848/secondary+mushroom+dataset"
      ],
      "metadata": {
        "id": "H54PM6qGSU6y"
      }
    },
    {
      "cell_type": "markdown",
      "source": [
        "# **Step 2: Importing the necessary libraries**\n",
        "\n",
        "To preprocess data using Python, it is essential to import predefined libraries, which are specifically designed to perform certain tasks."
      ],
      "metadata": {
        "id": "ADKlHMo1TZtJ"
      }
    },
    {
      "cell_type": "code",
      "source": [
        "import numpy as np\n",
        "import pandas as pd\n",
        "import matplotlib.pyplot as plt\n",
        "import seaborn as sns\n",
        "from sklearn.ensemble import RandomForestClassifier\n",
        "from sklearn.model_selection import train_test_split\n",
        "from sklearn.preprocessing import StandardScaler\n",
        "# this step is modified as the project proceeds."
      ],
      "metadata": {
        "id": "fBOhSRL5ST4R"
      },
      "execution_count": 84,
      "outputs": []
    },
    {
      "cell_type": "markdown",
      "source": [
        "# **Step 3: Importing Datasets**\n",
        "\n",
        "Import the datasets collected for the machine learning experiment to begin the analysis and model development process."
      ],
      "metadata": {
        "id": "QNJ3t-DqUdNO"
      }
    },
    {
      "cell_type": "code",
      "execution_count": 64,
      "metadata": {
        "colab": {
          "base_uri": "https://localhost:8080/"
        },
        "id": "wT4I_x1MNrBO",
        "outputId": "15502109-e366-4320-b8c4-3a402f434b12"
      },
      "outputs": [
        {
          "output_type": "stream",
          "name": "stdout",
          "text": [
            "Requirement already satisfied: ucimlrepo in /usr/local/lib/python3.11/dist-packages (0.0.7)\n",
            "Requirement already satisfied: pandas>=1.0.0 in /usr/local/lib/python3.11/dist-packages (from ucimlrepo) (2.2.2)\n",
            "Requirement already satisfied: certifi>=2020.12.5 in /usr/local/lib/python3.11/dist-packages (from ucimlrepo) (2025.1.31)\n",
            "Requirement already satisfied: numpy>=1.23.2 in /usr/local/lib/python3.11/dist-packages (from pandas>=1.0.0->ucimlrepo) (2.0.2)\n",
            "Requirement already satisfied: python-dateutil>=2.8.2 in /usr/local/lib/python3.11/dist-packages (from pandas>=1.0.0->ucimlrepo) (2.8.2)\n",
            "Requirement already satisfied: pytz>=2020.1 in /usr/local/lib/python3.11/dist-packages (from pandas>=1.0.0->ucimlrepo) (2025.2)\n",
            "Requirement already satisfied: tzdata>=2022.7 in /usr/local/lib/python3.11/dist-packages (from pandas>=1.0.0->ucimlrepo) (2025.2)\n",
            "Requirement already satisfied: six>=1.5 in /usr/local/lib/python3.11/dist-packages (from python-dateutil>=2.8.2->pandas>=1.0.0->ucimlrepo) (1.17.0)\n"
          ]
        }
      ],
      "source": [
        "#Install the ucimlrepo package\n",
        "!pip install ucimlrepo"
      ]
    },
    {
      "cell_type": "code",
      "source": [
        "from ucimlrepo import fetch_ucirepo\n",
        "try:\n",
        "\n",
        "# fetch dataset\n",
        "    secondary_mushroom = fetch_ucirepo(id=848)\n",
        "    print(\"Dataset imported successfully\")\n",
        "    X = secondary_mushroom.data.features\n",
        "    y = secondary_mushroom.data.targets\n",
        "except Exception as e :\n",
        "    print(\"failed to import dataset \\n Error: \",e)"
      ],
      "metadata": {
        "colab": {
          "base_uri": "https://localhost:8080/"
        },
        "id": "0XqSrQkyVUNo",
        "outputId": "7e085844-6100-4474-b61b-a8e8049de87c"
      },
      "execution_count": 65,
      "outputs": [
        {
          "output_type": "stream",
          "name": "stdout",
          "text": [
            "Dataset imported successfully\n"
          ]
        }
      ]
    },
    {
      "cell_type": "code",
      "source": [
        "print(\"\\n Dataset Overview:\")\n",
        "print(\"Features shape:\", X.shape)\n",
        "print(\"Target shape:\", y.shape)\n",
        "print(\"\\n First 5 rows of features:\")\n",
        "print(X.head())\n",
        "print(\"\\n First 5 target values:\")\n",
        "print(y.head())"
      ],
      "metadata": {
        "colab": {
          "base_uri": "https://localhost:8080/"
        },
        "id": "VthbIx2GXXAz",
        "outputId": "b3ce8d65-62ca-4f33-fbf9-9f0722e46db3"
      },
      "execution_count": 66,
      "outputs": [
        {
          "output_type": "stream",
          "name": "stdout",
          "text": [
            "\n",
            " Dataset Overview:\n",
            "Features shape: (61069, 20)\n",
            "Target shape: (61069, 1)\n",
            "\n",
            " First 5 rows of features:\n",
            "   cap-diameter cap-shape cap-surface cap-color does-bruise-or-bleed  \\\n",
            "0         15.26         x           g         o                    f   \n",
            "1         16.60         x           g         o                    f   \n",
            "2         14.07         x           g         o                    f   \n",
            "3         14.17         f           h         e                    f   \n",
            "4         14.64         x           h         o                    f   \n",
            "\n",
            "  gill-attachment gill-spacing gill-color  stem-height  stem-width stem-root  \\\n",
            "0               e          NaN          w        16.95       17.09         s   \n",
            "1               e          NaN          w        17.99       18.19         s   \n",
            "2               e          NaN          w        17.80       17.74         s   \n",
            "3               e          NaN          w        15.77       15.98         s   \n",
            "4               e          NaN          w        16.53       17.20         s   \n",
            "\n",
            "  stem-surface stem-color veil-type veil-color has-ring ring-type  \\\n",
            "0            y          w         u          w        t         g   \n",
            "1            y          w         u          w        t         g   \n",
            "2            y          w         u          w        t         g   \n",
            "3            y          w         u          w        t         p   \n",
            "4            y          w         u          w        t         p   \n",
            "\n",
            "  spore-print-color habitat season  \n",
            "0               NaN       d      w  \n",
            "1               NaN       d      u  \n",
            "2               NaN       d      w  \n",
            "3               NaN       d      w  \n",
            "4               NaN       d      w  \n",
            "\n",
            " First 5 target values:\n",
            "  class\n",
            "0     p\n",
            "1     p\n",
            "2     p\n",
            "3     p\n",
            "4     p\n"
          ]
        }
      ]
    },
    {
      "cell_type": "code",
      "source": [
        "print('List of features and targets')\n",
        "print(X.info())\n",
        "print(y.info())"
      ],
      "metadata": {
        "colab": {
          "base_uri": "https://localhost:8080/"
        },
        "id": "Zj_xgsagZHtb",
        "outputId": "801b8d50-801e-41a0-da13-975a8b2e5864"
      },
      "execution_count": 67,
      "outputs": [
        {
          "output_type": "stream",
          "name": "stdout",
          "text": [
            "List of features and targets\n",
            "<class 'pandas.core.frame.DataFrame'>\n",
            "RangeIndex: 61069 entries, 0 to 61068\n",
            "Data columns (total 20 columns):\n",
            " #   Column                Non-Null Count  Dtype  \n",
            "---  ------                --------------  -----  \n",
            " 0   cap-diameter          61069 non-null  float64\n",
            " 1   cap-shape             61069 non-null  object \n",
            " 2   cap-surface           46949 non-null  object \n",
            " 3   cap-color             61069 non-null  object \n",
            " 4   does-bruise-or-bleed  61069 non-null  object \n",
            " 5   gill-attachment       51185 non-null  object \n",
            " 6   gill-spacing          36006 non-null  object \n",
            " 7   gill-color            61069 non-null  object \n",
            " 8   stem-height           61069 non-null  float64\n",
            " 9   stem-width            61069 non-null  float64\n",
            " 10  stem-root             9531 non-null   object \n",
            " 11  stem-surface          22945 non-null  object \n",
            " 12  stem-color            61069 non-null  object \n",
            " 13  veil-type             3177 non-null   object \n",
            " 14  veil-color            7413 non-null   object \n",
            " 15  has-ring              61069 non-null  object \n",
            " 16  ring-type             58598 non-null  object \n",
            " 17  spore-print-color     6354 non-null   object \n",
            " 18  habitat               61069 non-null  object \n",
            " 19  season                61069 non-null  object \n",
            "dtypes: float64(3), object(17)\n",
            "memory usage: 9.3+ MB\n",
            "None\n",
            "<class 'pandas.core.frame.DataFrame'>\n",
            "RangeIndex: 61069 entries, 0 to 61068\n",
            "Data columns (total 1 columns):\n",
            " #   Column  Non-Null Count  Dtype \n",
            "---  ------  --------------  ----- \n",
            " 0   class   61069 non-null  object\n",
            "dtypes: object(1)\n",
            "memory usage: 477.2+ KB\n",
            "None\n"
          ]
        }
      ]
    },
    {
      "cell_type": "markdown",
      "source": [
        "# **Step 4: Finding Missing Data**\n"
      ],
      "metadata": {
        "id": "yzoNq3_bWzr-"
      }
    },
    {
      "cell_type": "code",
      "source": [
        "#checking for missing values\n",
        "total_missing = X.isnull().sum().sum()\n",
        "if total_missing == 0:\n",
        "  print(\"\\nNo missing values found in the feature set.\")\n",
        "else:\n",
        "  print(\"\\nMissing values found in the following features:\")\n",
        "  print(X.isnull().sum()[X.isnull().sum() > 0])"
      ],
      "metadata": {
        "colab": {
          "base_uri": "https://localhost:8080/"
        },
        "id": "v7oAyRIma9Ir",
        "outputId": "8cd3ac66-0155-416b-d498-11622aae3161"
      },
      "execution_count": 68,
      "outputs": [
        {
          "output_type": "stream",
          "name": "stdout",
          "text": [
            "\n",
            "Missing values found in the following features:\n",
            "cap-surface          14120\n",
            "gill-attachment       9884\n",
            "gill-spacing         25063\n",
            "stem-root            51538\n",
            "stem-surface         38124\n",
            "veil-type            57892\n",
            "veil-color           53656\n",
            "ring-type             2471\n",
            "spore-print-color    54715\n",
            "dtype: int64\n"
          ]
        }
      ]
    },
    {
      "cell_type": "code",
      "source": [
        "#Given the presence of missing values, consider visualizing the missingness\n",
        "# Calculate % missing\n",
        "missing_percent = (X.isnull().sum() / len(X)) * 100\n",
        "missing_percent = missing_percent[missing_percent > 0].sort_values(ascending=False)\n",
        "\n",
        "# Plot\n",
        "plt.figure(figsize=(10,6))\n",
        "missing_percent.plot(kind='barh', color='salmon')\n",
        "plt.xlabel('Percentage of Missing Values')\n",
        "plt.title('Missing Data by Feature')\n",
        "plt.gca().invert_yaxis()\n",
        "#include the threshold line\n",
        "plt.axvline(x=75, color='blue', linestyle='--', label='75% Threshold')\n",
        "plt.legend()\n",
        "\n",
        "plt.show()"
      ],
      "metadata": {
        "colab": {
          "base_uri": "https://localhost:8080/",
          "height": 564
        },
        "id": "ED1B0zmVhbmv",
        "outputId": "ec9fed6d-e0ed-4991-807b-22353b491bf3"
      },
      "execution_count": 69,
      "outputs": [
        {
          "output_type": "display_data",
          "data": {
            "text/plain": [
              "<Figure size 1000x600 with 1 Axes>"
            ],
            "image/png": "[encoded data removed]"
          },
          "metadata": {}
        }
      ]
    },
    {
      "cell_type": "markdown",
      "source": [
        "Since some features have more than 80% missing data, we will drop them to ensure the quality and reliability of the analysis."
      ],
      "metadata": {
        "id": "SuDfyCT9jJlc"
      }
    },
    {
      "cell_type": "code",
      "source": [
        "#listing and droping the features with missing data greater than 75%\n",
        "for feat, percent in missing_percent.items():\n",
        "    if percent >= 75:\n",
        "        print(feat)\n"
      ],
      "metadata": {
        "colab": {
          "base_uri": "https://localhost:8080/"
        },
        "id": "i7g7O7vgjJHU",
        "outputId": "847e3c1e-1b03-4b33-de90-f6f1d4016efb"
      },
      "execution_count": 70,
      "outputs": [
        {
          "output_type": "stream",
          "name": "stdout",
          "text": [
            "veil-type\n",
            "spore-print-color\n",
            "veil-color\n",
            "stem-root\n"
          ]
        }
      ]
    },
    {
      "cell_type": "code",
      "source": [
        "X_clean=X.drop(columns=missing_percent[missing_percent>=75].index)\n",
        "X_clean.shape"
      ],
      "metadata": {
        "colab": {
          "base_uri": "https://localhost:8080/"
        },
        "id": "URMHsmvSkmAW",
        "outputId": "df7b5799-0fd0-4115-c9db-e91cc6b4389c"
      },
      "execution_count": 71,
      "outputs": [
        {
          "output_type": "execute_result",
          "data": {
            "text/plain": [
              "(61069, 16)"
            ]
          },
          "metadata": {},
          "execution_count": 71
        }
      ]
    },
    {
      "cell_type": "code",
      "source": [
        "X_clean.isnull().sum()"
      ],
      "metadata": {
        "colab": {
          "base_uri": "https://localhost:8080/",
          "height": 585
        },
        "id": "DXDKs3C7mMxm",
        "outputId": "78a330b3-5799-44d9-cb1b-e0cc368dbdcf"
      },
      "execution_count": 72,
      "outputs": [
        {
          "output_type": "execute_result",
          "data": {
            "text/plain": [
              "cap-diameter                0\n",
              "cap-shape                   0\n",
              "cap-surface             14120\n",
              "cap-color                   0\n",
              "does-bruise-or-bleed        0\n",
              "gill-attachment          9884\n",
              "gill-spacing            25063\n",
              "gill-color                  0\n",
              "stem-height                 0\n",
              "stem-width                  0\n",
              "stem-surface            38124\n",
              "stem-color                  0\n",
              "has-ring                    0\n",
              "ring-type                2471\n",
              "habitat                     0\n",
              "season                      0\n",
              "dtype: int64"
            ],
            "text/html": [
              "<div>\n",
              "<style scoped>\n",
              "    .dataframe tbody tr th:only-of-type {\n",
              "        vertical-align: middle;\n",
              "    }\n",
              "\n",
              "    .dataframe tbody tr th {\n",
              "        vertical-align: top;\n",
              "    }\n",
              "\n",
              "    .dataframe thead th {\n",
              "        text-align: right;\n",
              "    }\n",
              "</style>\n",
              "<table border=\"1\" class=\"dataframe\">\n",
              "  <thead>\n",
              "    <tr style=\"text-align: right;\">\n",
              "      <th></th>\n",
              "      <th>0</th>\n",
              "    </tr>\n",
              "  </thead>\n",
              "  <tbody>\n",
              "    <tr>\n",
              "      <th>cap-diameter</th>\n",
              "      <td>0</td>\n",
              "    </tr>\n",
              "    <tr>\n",
              "      <th>cap-shape</th>\n",
              "      <td>0</td>\n",
              "    </tr>\n",
              "    <tr>\n",
              "      <th>cap-surface</th>\n",
              "      <td>14120</td>\n",
              "    </tr>\n",
              "    <tr>\n",
              "      <th>cap-color</th>\n",
              "      <td>0</td>\n",
              "    </tr>\n",
              "    <tr>\n",
              "      <th>does-bruise-or-bleed</th>\n",
              "      <td>0</td>\n",
              "    </tr>\n",
              "    <tr>\n",
              "      <th>gill-attachment</th>\n",
              "      <td>9884</td>\n",
              "    </tr>\n",
              "    <tr>\n",
              "      <th>gill-spacing</th>\n",
              "      <td>25063</td>\n",
              "    </tr>\n",
              "    <tr>\n",
              "      <th>gill-color</th>\n",
              "      <td>0</td>\n",
              "    </tr>\n",
              "    <tr>\n",
              "      <th>stem-height</th>\n",
              "      <td>0</td>\n",
              "    </tr>\n",
              "    <tr>\n",
              "      <th>stem-width</th>\n",
              "      <td>0</td>\n",
              "    </tr>\n",
              "    <tr>\n",
              "      <th>stem-surface</th>\n",
              "      <td>38124</td>\n",
              "    </tr>\n",
              "    <tr>\n",
              "      <th>stem-color</th>\n",
              "      <td>0</td>\n",
              "    </tr>\n",
              "    <tr>\n",
              "      <th>has-ring</th>\n",
              "      <td>0</td>\n",
              "    </tr>\n",
              "    <tr>\n",
              "      <th>ring-type</th>\n",
              "      <td>2471</td>\n",
              "    </tr>\n",
              "    <tr>\n",
              "      <th>habitat</th>\n",
              "      <td>0</td>\n",
              "    </tr>\n",
              "    <tr>\n",
              "      <th>season</th>\n",
              "      <td>0</td>\n",
              "    </tr>\n",
              "  </tbody>\n",
              "</table>\n",
              "</div><br><label><b>dtype:</b> int64</label>"
            ]
          },
          "metadata": {},
          "execution_count": 72
        }
      ]
    },
    {
      "cell_type": "markdown",
      "source": [
        "Impute the remaining missing values appropriately using suitable techniques based on the nature of the data, such as mean, median, mode, or unknown"
      ],
      "metadata": {
        "id": "ki-u6jslmTJP"
      }
    },
    {
      "cell_type": "code",
      "source": [
        "for feat, percent in missing_percent.items():\n",
        "    if 75>=percent >0:\n",
        "        print(feat,X_clean[feat].dtype)\n"
      ],
      "metadata": {
        "colab": {
          "base_uri": "https://localhost:8080/"
        },
        "id": "qEvBx_dHow3U",
        "outputId": "1f603360-dc0a-4c52-df53-f5d14e7a0a9f"
      },
      "execution_count": 73,
      "outputs": [
        {
          "output_type": "stream",
          "name": "stdout",
          "text": [
            "stem-surface object\n",
            "gill-spacing object\n",
            "cap-surface object\n",
            "gill-attachment object\n",
            "ring-type object\n"
          ]
        }
      ]
    },
    {
      "cell_type": "code",
      "source": [
        "#for these categorical columns filling them with unknown\n",
        "X_clean['stem-surface'].fillna('unknown', inplace=True)\n",
        "X_clean['gill-spacing'].fillna('unknown', inplace=True)\n",
        "X_clean['cap-surface'].fillna('unknown', inplace=True)\n",
        "X_clean['gill-attachment'].fillna('unknown', inplace=True)\n",
        "X_clean['ring-type'].fillna('unknown', inplace=True)"
      ],
      "metadata": {
        "colab": {
          "base_uri": "https://localhost:8080/"
        },
        "id": "xqht84-TmQhZ",
        "outputId": "de2e132b-e891-488a-ffd2-64498c601e9a"
      },
      "execution_count": 74,
      "outputs": [
        {
          "output_type": "stream",
          "name": "stderr",
          "text": [
            "<ipython-input-74-0b9d0e7f0d6f>:2: FutureWarning: A value is trying to be set on a copy of a DataFrame or Series through chained assignment using an inplace method.\n",
            "The behavior will change in pandas 3.0. This inplace method will never work because the intermediate object on which we are setting values always behaves as a copy.\n",
            "\n",
            "For example, when doing 'df[col].method(value, inplace=True)', try using 'df.method({col: value}, inplace=True)' or df[col] = df[col].method(value) instead, to perform the operation inplace on the original object.\n",
            "\n",
            "\n",
            "  X_clean['stem-surface'].fillna('unknown', inplace=True)\n",
            "<ipython-input-74-0b9d0e7f0d6f>:3: FutureWarning: A value is trying to be set on a copy of a DataFrame or Series through chained assignment using an inplace method.\n",
            "The behavior will change in pandas 3.0. This inplace method will never work because the intermediate object on which we are setting values always behaves as a copy.\n",
            "\n",
            "For example, when doing 'df[col].method(value, inplace=True)', try using 'df.method({col: value}, inplace=True)' or df[col] = df[col].method(value) instead, to perform the operation inplace on the original object.\n",
            "\n",
            "\n",
            "  X_clean['gill-spacing'].fillna('unknown', inplace=True)\n",
            "<ipython-input-74-0b9d0e7f0d6f>:4: FutureWarning: A value is trying to be set on a copy of a DataFrame or Series through chained assignment using an inplace method.\n",
            "The behavior will change in pandas 3.0. This inplace method will never work because the intermediate object on which we are setting values always behaves as a copy.\n",
            "\n",
            "For example, when doing 'df[col].method(value, inplace=True)', try using 'df.method({col: value}, inplace=True)' or df[col] = df[col].method(value) instead, to perform the operation inplace on the original object.\n",
            "\n",
            "\n",
            "  X_clean['cap-surface'].fillna('unknown', inplace=True)\n",
            "<ipython-input-74-0b9d0e7f0d6f>:5: FutureWarning: A value is trying to be set on a copy of a DataFrame or Series through chained assignment using an inplace method.\n",
            "The behavior will change in pandas 3.0. This inplace method will never work because the intermediate object on which we are setting values always behaves as a copy.\n",
            "\n",
            "For example, when doing 'df[col].method(value, inplace=True)', try using 'df.method({col: value}, inplace=True)' or df[col] = df[col].method(value) instead, to perform the operation inplace on the original object.\n",
            "\n",
            "\n",
            "  X_clean['gill-attachment'].fillna('unknown', inplace=True)\n",
            "<ipython-input-74-0b9d0e7f0d6f>:6: FutureWarning: A value is trying to be set on a copy of a DataFrame or Series through chained assignment using an inplace method.\n",
            "The behavior will change in pandas 3.0. This inplace method will never work because the intermediate object on which we are setting values always behaves as a copy.\n",
            "\n",
            "For example, when doing 'df[col].method(value, inplace=True)', try using 'df.method({col: value}, inplace=True)' or df[col] = df[col].method(value) instead, to perform the operation inplace on the original object.\n",
            "\n",
            "\n",
            "  X_clean['ring-type'].fillna('unknown', inplace=True)\n"
          ]
        }
      ]
    },
    {
      "cell_type": "markdown",
      "source": [
        "# **Step 5: Encoding**\n",
        "Converting categorical data (text or labels) into a numeric format that machine learning models can understand."
      ],
      "metadata": {
        "id": "adFZInj54lYR"
      }
    },
    {
      "cell_type": "code",
      "source": [
        "print(X_clean.dtypes)\n",
        "X_encoded = pd.get_dummies(X_clean, drop_first=True)\n",
        "print(X_encoded.dtypes)"
      ],
      "metadata": {
        "colab": {
          "base_uri": "https://localhost:8080/"
        },
        "id": "BVllkjcB4kwY",
        "outputId": "7da11d39-c704-428f-b13f-87fe53127d12"
      },
      "execution_count": 75,
      "outputs": [
        {
          "output_type": "stream",
          "name": "stdout",
          "text": [
            "cap-diameter            float64\n",
            "cap-shape                object\n",
            "cap-surface              object\n",
            "cap-color                object\n",
            "does-bruise-or-bleed     object\n",
            "gill-attachment          object\n",
            "gill-spacing             object\n",
            "gill-color               object\n",
            "stem-height             float64\n",
            "stem-width              float64\n",
            "stem-surface             object\n",
            "stem-color               object\n",
            "has-ring                 object\n",
            "ring-type                object\n",
            "habitat                  object\n",
            "season                   object\n",
            "dtype: object\n",
            "cap-diameter    float64\n",
            "stem-height     float64\n",
            "stem-width      float64\n",
            "cap-shape_c        bool\n",
            "cap-shape_f        bool\n",
            "                 ...   \n",
            "habitat_u          bool\n",
            "habitat_w          bool\n",
            "season_s           bool\n",
            "season_u           bool\n",
            "season_w           bool\n",
            "Length: 92, dtype: object\n"
          ]
        }
      ]
    },
    {
      "cell_type": "markdown",
      "source": [
        "# **Step 6:Finding and Handling outliers**\n",
        "Outliers are extreme values that can distort your model, reduce accuracy, and mislead analysis.Hence handling them properly is necessary"
      ],
      "metadata": {
        "id": "ueWKqG08tzao"
      }
    },
    {
      "cell_type": "code",
      "source": [
        "numeric_cols = X_encoded.select_dtypes(include=['int64', 'float64']).columns\n",
        "for col in numeric_cols:\n",
        "    Q1 = X_encoded[col].quantile(0.25)\n",
        "    Q3 = X_encoded[col].quantile(0.75)\n",
        "    IQR = Q3 - Q1\n",
        "    lower_bound = Q1 - 1.5 * IQR\n",
        "    upper_bound = Q3 + 1.5 * IQR\n",
        "\n",
        "    outliers = X_encoded[(X_encoded[col] < lower_bound) | (X_encoded[col] > upper_bound)]\n",
        "\n",
        "    if not outliers.empty:\n",
        "        print(f\"{col} has {len(outliers)} outliers\")\n"
      ],
      "metadata": {
        "colab": {
          "base_uri": "https://localhost:8080/"
        },
        "id": "CkPwfu4wqltw",
        "outputId": "3b8bb7d3-725d-4e2c-dffa-12c10e6ac3c4"
      },
      "execution_count": 76,
      "outputs": [
        {
          "output_type": "stream",
          "name": "stdout",
          "text": [
            "cap-diameter has 2400 outliers\n",
            "stem-height has 3169 outliers\n",
            "stem-width has 1967 outliers\n"
          ]
        }
      ]
    },
    {
      "cell_type": "code",
      "source": [
        "#plot of the outliers\n",
        "features_to_plot = ['cap-diameter', 'stem-height', 'stem-width']\n",
        "\n",
        "plt.figure(figsize=(10, 6))\n",
        "X_encoded[features_to_plot].boxplot()\n",
        "plt.title('Boxplots of Numerical Features before treatment')\n",
        "plt.ylabel('Values')\n",
        "plt.xticks(rotation=45)\n",
        "plt.show()"
      ],
      "metadata": {
        "colab": {
          "base_uri": "https://localhost:8080/",
          "height": 606
        },
        "id": "-mYDc45CIv4Q",
        "outputId": "ac7873c2-7182-4ccd-a27c-cfc2e7096d31"
      },
      "execution_count": 77,
      "outputs": [
        {
          "output_type": "display_data",
          "data": {
            "text/plain": [
              "<Figure size 1000x600 with 1 Axes>"
            ],
            "image/png": "[encoded data removed]"
          },
          "metadata": {}
        }
      ]
    },
    {
      "cell_type": "code",
      "source": [
        "X_encoded[col] = X_encoded[col].clip(lower=lower_bound, upper=upper_bound)\n",
        "\n",
        "print(\"Outliers capped successfully!\")\n"
      ],
      "metadata": {
        "colab": {
          "base_uri": "https://localhost:8080/"
        },
        "id": "QeAKvoyS5rFd",
        "outputId": "17803ec8-74c1-4538-9976-f0bf2ad16199"
      },
      "execution_count": 79,
      "outputs": [
        {
          "output_type": "stream",
          "name": "stdout",
          "text": [
            "Outliers capped successfully!\n"
          ]
        }
      ]
    },
    {
      "cell_type": "markdown",
      "source": [
        "# **Step 7: Feature selection**\n",
        "To find which columns (features) are most useful for predicting the target."
      ],
      "metadata": {
        "id": "9ciRcYTK-7pI"
      }
    },
    {
      "cell_type": "code",
      "source": [
        "#introducing random forest classifier for feature selection\n",
        "model = RandomForestClassifier(random_state=42)\n",
        "model.fit(X_encoded, y)\n",
        "\n",
        "#finding the importance of each feature\n",
        "importances = pd.Series(model.feature_importances_, index=X_encoded.columns)\n",
        "\n",
        "#sorting and printing the features\n",
        "importances = importances.sort_values(ascending=False)\n",
        "print(importances)\n",
        "\n",
        "#Higher score = more important feature."
      ],
      "metadata": {
        "colab": {
          "base_uri": "https://localhost:8080/"
        },
        "id": "QUy3Va5l_tmN",
        "outputId": "8b850c43-6f44-400c-9820-24829b344ff6"
      },
      "execution_count": 45,
      "outputs": [
        {
          "output_type": "stream",
          "name": "stderr",
          "text": [
            "/usr/local/lib/python3.11/dist-packages/sklearn/base.py:1389: DataConversionWarning: A column-vector y was passed when a 1d array was expected. Please change the shape of y to (n_samples,), for example using ravel().\n",
            "  return fit_method(estimator, *args, **kwargs)\n"
          ]
        },
        {
          "output_type": "stream",
          "name": "stdout",
          "text": [
            "stem-width        0.087412\n",
            "stem-height       0.064249\n",
            "cap-diameter      0.060256\n",
            "stem-color_w      0.034433\n",
            "gill-spacing_d    0.029000\n",
            "                    ...   \n",
            "habitat_w         0.001262\n",
            "stem-color_r      0.001259\n",
            "stem-color_l      0.000735\n",
            "habitat_p         0.000320\n",
            "habitat_u         0.000306\n",
            "Length: 92, dtype: float64\n"
          ]
        }
      ]
    },
    {
      "cell_type": "code",
      "source": [
        "top_features = importances.head(20)\n",
        "\n",
        "plt.figure(figsize=(10,6))\n",
        "top_features.plot( kind='barh',color='lightgreen')\n",
        "plt.gca().invert_yaxis()\n",
        "plt.xlabel('Feature Importance')\n",
        "plt.title('Top 20 Features - Random Forest')\n",
        "plt.show()"
      ],
      "metadata": {
        "colab": {
          "base_uri": "https://localhost:8080/",
          "height": 564
        },
        "id": "v_X6OVcMAlTQ",
        "outputId": "b842df61-f933-4c15-a06b-88d255a9b624"
      },
      "execution_count": 46,
      "outputs": [
        {
          "output_type": "display_data",
          "data": {
            "text/plain": [
              "<Figure size 1000x600 with 1 Axes>"
            ],
            "image/png": "[encoded data removed]"
          },
          "metadata": {}
        }
      ]
    },
    {
      "cell_type": "code",
      "source": [
        "# making the dataframe with the top 15 features\n",
        "selected_features = importances.head(15).index.tolist()\n",
        "print(selected_features)\n",
        "X_selected = X_encoded[selected_features]\n",
        "#check\n",
        "print(X_selected.shape)\n",
        "#print(X_selected.head)"
      ],
      "metadata": {
        "colab": {
          "base_uri": "https://localhost:8080/"
        },
        "id": "OgvPJwcUCyaS",
        "outputId": "a5bddd9c-593a-4b15-9f26-a73316b73e6e"
      },
      "execution_count": 80,
      "outputs": [
        {
          "output_type": "stream",
          "name": "stdout",
          "text": [
            "['stem-width', 'stem-height', 'cap-diameter', 'stem-color_w', 'gill-spacing_d', 'gill-spacing_unknown', 'stem-surface_unknown', 'does-bruise-or-bleed_t', 'gill-color_w', 'gill-attachment_p', 'cap-surface_unknown', 'gill-attachment_d', 'cap-surface_s', 'cap-shape_x', 'stem-surface_s']\n",
            "(61069, 15)\n"
          ]
        }
      ]
    },
    {
      "cell_type": "markdown",
      "source": [
        "# **Step 8: Splitting the dataset**\n",
        "Splitting the dataset for training and testing\n",
        "\n"
      ],
      "metadata": {
        "id": "w14lA_hVJtUF"
      }
    },
    {
      "cell_type": "code",
      "source": [
        "X_train,X_test,y_train,y_test= train_test_split(X_selected,y,test_size=0.2,random_state=42, stratify=y)\n",
        "# stratify= y ensures the data is split in a balanced way"
      ],
      "metadata": {
        "id": "z9TIA2AoHtV9"
      },
      "execution_count": 83,
      "outputs": []
    },
    {
      "cell_type": "markdown",
      "source": [
        "# **Step 9: Feature scaling**\n",
        "To make all features have a similar range of values."
      ],
      "metadata": {
        "id": "Zcpdp6KlKx8y"
      }
    },
    {
      "cell_type": "code",
      "source": [
        "# Initializing scaler\n",
        "scaler = StandardScaler()\n",
        "\n",
        "# Fit and transform only on numerical columns\n",
        "X_train[numeric_cols] = scaler.fit_transform(X_train[numeric_cols])\n",
        "X_test[numeric_cols] = scaler.transform(X_test[numeric_cols])"
      ],
      "metadata": {
        "id": "AQJrwnFGLrdL"
      },
      "execution_count": 87,
      "outputs": []
    }
  ]
}
