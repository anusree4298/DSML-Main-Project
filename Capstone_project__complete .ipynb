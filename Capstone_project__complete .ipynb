{
  "nbformat": 4,
  "nbformat_minor": 0,
  "metadata": {
    "colab": {
      "provenance": []
    },
    "kernelspec": {
      "name": "python3",
      "display_name": "Python 3"
    },
    "language_info": {
      "name": "python"
    }
  },
  "cells": [
    {
      "cell_type": "markdown",
      "source": [
        "# **Main Project**"
      ],
      "metadata": {
        "id": "oVGrp0viNf9j"
      }
    },
    {
      "cell_type": "markdown",
      "source": [
        "# **About the Dataset**\n",
        "The Secondary Mushroom Dataset is a simulated mushroom data collection designed for binary classification tasks—specifically, distinguishing between edible and poisonous mushrooms. It is as an extension to the original UCI Mushroom Dataset, offering a more extensive and diverse set of features to support advanced machine learning applications"
      ],
      "metadata": {
        "id": "3PO6vShPSBZr"
      }
    },
    {
      "cell_type": "markdown",
      "source": [
        "# **Step 1: Acquire the dataset**\n",
        "  \n",
        "  Dataset link :https://archive.ics.uci.edu/dataset/848/secondary+mushroom+dataset"
      ],
      "metadata": {
        "id": "H54PM6qGSU6y"
      }
    },
    {
      "cell_type": "markdown",
      "source": [
        "# **Step 2: Importing the necessary libraries**\n",
        "\n",
        "To preprocess data using Python, it is essential to import predefined libraries, which are specifically designed to perform certain tasks."
      ],
      "metadata": {
        "id": "ADKlHMo1TZtJ"
      }
    },
    {
      "cell_type": "code",
      "source": [
        "import numpy as np\n",
        "import pandas as pd\n",
        "import matplotlib.pyplot as plt\n",
        "import seaborn as sns\n",
        "from sklearn.preprocessing import LabelEncoder\n",
        "from sklearn.ensemble import RandomForestClassifier\n",
        "from sklearn.model_selection import train_test_split\n",
        "from sklearn.preprocessing import StandardScaler\n",
        "from sklearn.linear_model import LogisticRegression\n",
        "from sklearn.svm import SVC\n",
        "from sklearn.tree import DecisionTreeClassifier\n",
        "from sklearn.ensemble import RandomForestClassifier,GradientBoostingClassifier\n",
        "from sklearn.metrics import accuracy_score,confusion_matrix,classification_report\n",
        "from sklearn.pipeline import Pipeline\n",
        "from sklearn.impute import SimpleImputer\n",
        "import joblib\n",
        "from sklearn.model_selection import GridSearchCV\n",
        "# this step is modified as the project proceeds."
      ],
      "metadata": {
        "id": "fBOhSRL5ST4R"
      },
      "execution_count": 1,
      "outputs": []
    },
    {
      "cell_type": "markdown",
      "source": [
        "# **Step 3: Importing Datasets**\n",
        "\n",
        "Import the datasets collected for the machine learning experiment to begin the analysis and model development process."
      ],
      "metadata": {
        "id": "QNJ3t-DqUdNO"
      }
    },
    {
      "cell_type": "code",
      "execution_count": 2,
      "metadata": {
        "colab": {
          "base_uri": "https://localhost:8080/"
        },
        "id": "wT4I_x1MNrBO",
        "outputId": "158ae117-360b-473d-c5af-46223d03ee84"
      },
      "outputs": [
        {
          "output_type": "stream",
          "name": "stdout",
          "text": [
            "Collecting ucimlrepo\n",
            "  Downloading ucimlrepo-0.0.7-py3-none-any.whl.metadata (5.5 kB)\n",
            "Requirement already satisfied: pandas>=1.0.0 in /usr/local/lib/python3.11/dist-packages (from ucimlrepo) (2.2.2)\n",
            "Requirement already satisfied: certifi>=2020.12.5 in /usr/local/lib/python3.11/dist-packages (from ucimlrepo) (2025.4.26)\n",
            "Requirement already satisfied: numpy>=1.23.2 in /usr/local/lib/python3.11/dist-packages (from pandas>=1.0.0->ucimlrepo) (2.0.2)\n",
            "Requirement already satisfied: python-dateutil>=2.8.2 in /usr/local/lib/python3.11/dist-packages (from pandas>=1.0.0->ucimlrepo) (2.9.0.post0)\n",
            "Requirement already satisfied: pytz>=2020.1 in /usr/local/lib/python3.11/dist-packages (from pandas>=1.0.0->ucimlrepo) (2025.2)\n",
            "Requirement already satisfied: tzdata>=2022.7 in /usr/local/lib/python3.11/dist-packages (from pandas>=1.0.0->ucimlrepo) (2025.2)\n",
            "Requirement already satisfied: six>=1.5 in /usr/local/lib/python3.11/dist-packages (from python-dateutil>=2.8.2->pandas>=1.0.0->ucimlrepo) (1.17.0)\n",
            "Downloading ucimlrepo-0.0.7-py3-none-any.whl (8.0 kB)\n",
            "Installing collected packages: ucimlrepo\n",
            "Successfully installed ucimlrepo-0.0.7\n"
          ]
        }
      ],
      "source": [
        "#Install the ucimlrepo package\n",
        "!pip install ucimlrepo"
      ]
    },
    {
      "cell_type": "code",
      "source": [
        "from ucimlrepo import fetch_ucirepo\n",
        "try:\n",
        "\n",
        "# fetch dataset\n",
        "    secondary_mushroom = fetch_ucirepo(id=848)\n",
        "    # data (as pandas dataframes)\n",
        "    X = secondary_mushroom.data.features\n",
        "    y = secondary_mushroom.data.targets\n",
        "    print(\"Dataset imported successfully\")\n",
        "except Exception as e :\n",
        "    print(\"failed to import dataset \\n Error: \",e)"
      ],
      "metadata": {
        "colab": {
          "base_uri": "https://localhost:8080/"
        },
        "id": "0XqSrQkyVUNo",
        "outputId": "386fdb52-8fb3-4258-e960-102a92ca7587"
      },
      "execution_count": 3,
      "outputs": [
        {
          "output_type": "stream",
          "name": "stdout",
          "text": [
            "Dataset imported successfully\n"
          ]
        }
      ]
    },
    {
      "cell_type": "code",
      "source": [
        "print(\"\\n Dataset Overview:\")\n",
        "print(\"Features shape:\", X.shape)\n",
        "print(\"Target shape:\", y.shape)\n",
        "print(\"\\n First 5 rows of features:\")\n",
        "print(X.head())\n",
        "print(\"\\n First 5 target values:\")\n",
        "print(y.head())\n",
        "print(\"\\n Last 5 rows of features:\")\n",
        "print(X.tail())\n",
        "print(\"\\n Last 5 target values:\")\n",
        "print(y.tail())"
      ],
      "metadata": {
        "colab": {
          "base_uri": "https://localhost:8080/"
        },
        "id": "VthbIx2GXXAz",
        "outputId": "658d5e6e-6473-4ead-df43-ba227dd7fcc5"
      },
      "execution_count": 4,
      "outputs": [
        {
          "output_type": "stream",
          "name": "stdout",
          "text": [
            "\n",
            " Dataset Overview:\n",
            "Features shape: (61069, 20)\n",
            "Target shape: (61069, 1)\n",
            "\n",
            " First 5 rows of features:\n",
            "   cap-diameter cap-shape cap-surface cap-color does-bruise-or-bleed  \\\n",
            "0         15.26         x           g         o                    f   \n",
            "1         16.60         x           g         o                    f   \n",
            "2         14.07         x           g         o                    f   \n",
            "3         14.17         f           h         e                    f   \n",
            "4         14.64         x           h         o                    f   \n",
            "\n",
            "  gill-attachment gill-spacing gill-color  stem-height  stem-width stem-root  \\\n",
            "0               e          NaN          w        16.95       17.09         s   \n",
            "1               e          NaN          w        17.99       18.19         s   \n",
            "2               e          NaN          w        17.80       17.74         s   \n",
            "3               e          NaN          w        15.77       15.98         s   \n",
            "4               e          NaN          w        16.53       17.20         s   \n",
            "\n",
            "  stem-surface stem-color veil-type veil-color has-ring ring-type  \\\n",
            "0            y          w         u          w        t         g   \n",
            "1            y          w         u          w        t         g   \n",
            "2            y          w         u          w        t         g   \n",
            "3            y          w         u          w        t         p   \n",
            "4            y          w         u          w        t         p   \n",
            "\n",
            "  spore-print-color habitat season  \n",
            "0               NaN       d      w  \n",
            "1               NaN       d      u  \n",
            "2               NaN       d      w  \n",
            "3               NaN       d      w  \n",
            "4               NaN       d      w  \n",
            "\n",
            " First 5 target values:\n",
            "  class\n",
            "0     p\n",
            "1     p\n",
            "2     p\n",
            "3     p\n",
            "4     p\n",
            "\n",
            " Last 5 rows of features:\n",
            "       cap-diameter cap-shape cap-surface cap-color does-bruise-or-bleed  \\\n",
            "61064          1.18         s           s         y                    f   \n",
            "61065          1.27         f           s         y                    f   \n",
            "61066          1.27         s           s         y                    f   \n",
            "61067          1.24         f           s         y                    f   \n",
            "61068          1.17         s           s         y                    f   \n",
            "\n",
            "      gill-attachment gill-spacing gill-color  stem-height  stem-width  \\\n",
            "61064               f            f          f         3.93        6.22   \n",
            "61065               f            f          f         3.18        5.43   \n",
            "61066               f            f          f         3.86        6.37   \n",
            "61067               f            f          f         3.56        5.44   \n",
            "61068               f            f          f         3.25        5.45   \n",
            "\n",
            "      stem-root stem-surface stem-color veil-type veil-color has-ring  \\\n",
            "61064       NaN          NaN          y       NaN        NaN        f   \n",
            "61065       NaN          NaN          y       NaN        NaN        f   \n",
            "61066       NaN          NaN          y       NaN        NaN        f   \n",
            "61067       NaN          NaN          y       NaN        NaN        f   \n",
            "61068       NaN          NaN          y       NaN        NaN        f   \n",
            "\n",
            "      ring-type spore-print-color habitat season  \n",
            "61064         f               NaN       d      a  \n",
            "61065         f               NaN       d      a  \n",
            "61066         f               NaN       d      u  \n",
            "61067         f               NaN       d      u  \n",
            "61068         f               NaN       d      u  \n",
            "\n",
            " Last 5 target values:\n",
            "      class\n",
            "61064     p\n",
            "61065     p\n",
            "61066     p\n",
            "61067     p\n",
            "61068     p\n"
          ]
        }
      ]
    },
    {
      "cell_type": "code",
      "source": [
        "print('List of features and targets')\n",
        "print(X.info())\n",
        "print(y.info())"
      ],
      "metadata": {
        "colab": {
          "base_uri": "https://localhost:8080/"
        },
        "id": "Zj_xgsagZHtb",
        "outputId": "b1835e70-ee9d-4317-d5b4-7168439f525b"
      },
      "execution_count": 5,
      "outputs": [
        {
          "output_type": "stream",
          "name": "stdout",
          "text": [
            "List of features and targets\n",
            "<class 'pandas.core.frame.DataFrame'>\n",
            "RangeIndex: 61069 entries, 0 to 61068\n",
            "Data columns (total 20 columns):\n",
            " #   Column                Non-Null Count  Dtype  \n",
            "---  ------                --------------  -----  \n",
            " 0   cap-diameter          61069 non-null  float64\n",
            " 1   cap-shape             61069 non-null  object \n",
            " 2   cap-surface           46949 non-null  object \n",
            " 3   cap-color             61069 non-null  object \n",
            " 4   does-bruise-or-bleed  61069 non-null  object \n",
            " 5   gill-attachment       51185 non-null  object \n",
            " 6   gill-spacing          36006 non-null  object \n",
            " 7   gill-color            61069 non-null  object \n",
            " 8   stem-height           61069 non-null  float64\n",
            " 9   stem-width            61069 non-null  float64\n",
            " 10  stem-root             9531 non-null   object \n",
            " 11  stem-surface          22945 non-null  object \n",
            " 12  stem-color            61069 non-null  object \n",
            " 13  veil-type             3177 non-null   object \n",
            " 14  veil-color            7413 non-null   object \n",
            " 15  has-ring              61069 non-null  object \n",
            " 16  ring-type             58598 non-null  object \n",
            " 17  spore-print-color     6354 non-null   object \n",
            " 18  habitat               61069 non-null  object \n",
            " 19  season                61069 non-null  object \n",
            "dtypes: float64(3), object(17)\n",
            "memory usage: 9.3+ MB\n",
            "None\n",
            "<class 'pandas.core.frame.DataFrame'>\n",
            "RangeIndex: 61069 entries, 0 to 61068\n",
            "Data columns (total 1 columns):\n",
            " #   Column  Non-Null Count  Dtype \n",
            "---  ------  --------------  ----- \n",
            " 0   class   61069 non-null  object\n",
            "dtypes: object(1)\n",
            "memory usage: 477.2+ KB\n",
            "None\n"
          ]
        }
      ]
    },
    {
      "cell_type": "code",
      "source": [
        "print('Statistics of numerical values and Details of target ')\n",
        "print(X.describe())\n",
        "print(y.describe())"
      ],
      "metadata": {
        "colab": {
          "base_uri": "https://localhost:8080/"
        },
        "id": "2RG4qCh-VJC9",
        "outputId": "0e1b2b9a-3cfe-4dad-e862-14e5205735ca"
      },
      "execution_count": 6,
      "outputs": [
        {
          "output_type": "stream",
          "name": "stdout",
          "text": [
            "Statistics of numerical values and Details of target \n",
            "       cap-diameter   stem-height    stem-width\n",
            "count  61069.000000  61069.000000  61069.000000\n",
            "mean       6.733854      6.581538     12.149410\n",
            "std        5.264845      3.370017     10.035955\n",
            "min        0.380000      0.000000      0.000000\n",
            "25%        3.480000      4.640000      5.210000\n",
            "50%        5.860000      5.950000     10.190000\n",
            "75%        8.540000      7.740000     16.570000\n",
            "max       62.340000     33.920000    103.910000\n",
            "        class\n",
            "count   61069\n",
            "unique      2\n",
            "top         p\n",
            "freq    33888\n"
          ]
        }
      ]
    },
    {
      "cell_type": "code",
      "source": [
        "print('Feature column names' )\n",
        "print(X.columns)\n",
        "print('\\ntarget column name ')\n",
        "print(y.columns)"
      ],
      "metadata": {
        "colab": {
          "base_uri": "https://localhost:8080/"
        },
        "id": "M731u7sFVpTi",
        "outputId": "a60c7d80-22ff-4bdf-d1b3-37d3cb934d27"
      },
      "execution_count": 7,
      "outputs": [
        {
          "output_type": "stream",
          "name": "stdout",
          "text": [
            "Feature column names\n",
            "Index(['cap-diameter', 'cap-shape', 'cap-surface', 'cap-color',\n",
            "       'does-bruise-or-bleed', 'gill-attachment', 'gill-spacing', 'gill-color',\n",
            "       'stem-height', 'stem-width', 'stem-root', 'stem-surface', 'stem-color',\n",
            "       'veil-type', 'veil-color', 'has-ring', 'ring-type', 'spore-print-color',\n",
            "       'habitat', 'season'],\n",
            "      dtype='object')\n",
            "\n",
            "target column name \n",
            "Index(['class'], dtype='object')\n"
          ]
        }
      ]
    },
    {
      "cell_type": "markdown",
      "source": [
        "# **Step 4: Finding Missing Data**\n"
      ],
      "metadata": {
        "id": "yzoNq3_bWzr-"
      }
    },
    {
      "cell_type": "code",
      "source": [
        "#checking for missing values\n",
        "total_missing = X.isnull().sum().sum()\n",
        "if total_missing == 0:\n",
        "  print(\"\\nNo missing values found in the feature set.\")\n",
        "else:\n",
        "  print(\"\\nMissing values found in the following features:\")\n",
        "  print(X.isnull().sum()[X.isnull().sum() > 0])"
      ],
      "metadata": {
        "colab": {
          "base_uri": "https://localhost:8080/"
        },
        "id": "v7oAyRIma9Ir",
        "outputId": "d58c1b72-4e27-4516-fd37-01b67e030ed0"
      },
      "execution_count": 8,
      "outputs": [
        {
          "output_type": "stream",
          "name": "stdout",
          "text": [
            "\n",
            "Missing values found in the following features:\n",
            "cap-surface          14120\n",
            "gill-attachment       9884\n",
            "gill-spacing         25063\n",
            "stem-root            51538\n",
            "stem-surface         38124\n",
            "veil-type            57892\n",
            "veil-color           53656\n",
            "ring-type             2471\n",
            "spore-print-color    54715\n",
            "dtype: int64\n"
          ]
        }
      ]
    },
    {
      "cell_type": "code",
      "source": [
        "#Given the presence of missing values, consider visualizing the missingness\n",
        "# Calculate % missing\n",
        "missing_percent = (X.isnull().sum() / len(X)) * 100\n",
        "missing_percent = missing_percent[missing_percent > 0].sort_values(ascending=False)\n",
        "\n",
        "# Plot\n",
        "plt.figure(figsize=(10,6))\n",
        "missing_percent.plot(kind='barh', color='salmon')\n",
        "plt.xlabel('Percentage of Missing Values')\n",
        "plt.title('Missing Data by Feature')\n",
        "plt.gca().invert_yaxis()\n",
        "#include the threshold line\n",
        "plt.axvline(x=75, color='blue', linestyle='--', label='75% Threshold')\n",
        "plt.legend()\n",
        "\n",
        "plt.show()"
      ],
      "metadata": {
        "colab": {
          "base_uri": "https://localhost:8080/",
          "height": 564
        },
        "id": "ED1B0zmVhbmv",
        "outputId": "d3a8898e-a2f3-4703-e8e4-0596aefd6e97"
      },
      "execution_count": 9,
      "outputs": [
        {
          "output_type": "display_data",
          "data": {
            "text/plain": [
              "<Figure size 1000x600 with 1 Axes>"
            ],
            "image/png": "[encoded data removed]"
          },
          "metadata": {}
        }
      ]
    },
    {
      "cell_type": "markdown",
      "source": [
        "Since some features have more than 80% missing data, we will drop them to ensure the quality and reliability of the analysis."
      ],
      "metadata": {
        "id": "SuDfyCT9jJlc"
      }
    },
    {
      "cell_type": "code",
      "source": [
        "#listing and droping the features with missing data greater than 75%\n",
        "for feat, percent in missing_percent.items():\n",
        "    if percent >= 75:\n",
        "        print(feat)\n"
      ],
      "metadata": {
        "colab": {
          "base_uri": "https://localhost:8080/"
        },
        "id": "i7g7O7vgjJHU",
        "outputId": "11165fcb-b106-4da4-af1c-8c1bcd63a0f8"
      },
      "execution_count": 10,
      "outputs": [
        {
          "output_type": "stream",
          "name": "stdout",
          "text": [
            "veil-type\n",
            "spore-print-color\n",
            "veil-color\n",
            "stem-root\n"
          ]
        }
      ]
    },
    {
      "cell_type": "code",
      "source": [
        "X_clean=X.drop(columns=missing_percent[missing_percent>=75].index)\n",
        "X_clean.shape"
      ],
      "metadata": {
        "colab": {
          "base_uri": "https://localhost:8080/"
        },
        "id": "URMHsmvSkmAW",
        "outputId": "63d85f7a-837e-4742-ef7a-3dc25a89d29e"
      },
      "execution_count": 11,
      "outputs": [
        {
          "output_type": "execute_result",
          "data": {
            "text/plain": [
              "(61069, 16)"
            ]
          },
          "metadata": {},
          "execution_count": 11
        }
      ]
    },
    {
      "cell_type": "code",
      "source": [
        "X_clean.isnull().sum()"
      ],
      "metadata": {
        "colab": {
          "base_uri": "https://localhost:8080/",
          "height": 585
        },
        "id": "DXDKs3C7mMxm",
        "outputId": "9722cca2-ce34-478d-bea2-314452860489"
      },
      "execution_count": 12,
      "outputs": [
        {
          "output_type": "execute_result",
          "data": {
            "text/plain": [
              "cap-diameter                0\n",
              "cap-shape                   0\n",
              "cap-surface             14120\n",
              "cap-color                   0\n",
              "does-bruise-or-bleed        0\n",
              "gill-attachment          9884\n",
              "gill-spacing            25063\n",
              "gill-color                  0\n",
              "stem-height                 0\n",
              "stem-width                  0\n",
              "stem-surface            38124\n",
              "stem-color                  0\n",
              "has-ring                    0\n",
              "ring-type                2471\n",
              "habitat                     0\n",
              "season                      0\n",
              "dtype: int64"
            ],
            "text/html": [
              "<div>\n",
              "<style scoped>\n",
              "    .dataframe tbody tr th:only-of-type {\n",
              "        vertical-align: middle;\n",
              "    }\n",
              "\n",
              "    .dataframe tbody tr th {\n",
              "        vertical-align: top;\n",
              "    }\n",
              "\n",
              "    .dataframe thead th {\n",
              "        text-align: right;\n",
              "    }\n",
              "</style>\n",
              "<table border=\"1\" class=\"dataframe\">\n",
              "  <thead>\n",
              "    <tr style=\"text-align: right;\">\n",
              "      <th></th>\n",
              "      <th>0</th>\n",
              "    </tr>\n",
              "  </thead>\n",
              "  <tbody>\n",
              "    <tr>\n",
              "      <th>cap-diameter</th>\n",
              "      <td>0</td>\n",
              "    </tr>\n",
              "    <tr>\n",
              "      <th>cap-shape</th>\n",
              "      <td>0</td>\n",
              "    </tr>\n",
              "    <tr>\n",
              "      <th>cap-surface</th>\n",
              "      <td>14120</td>\n",
              "    </tr>\n",
              "    <tr>\n",
              "      <th>cap-color</th>\n",
              "      <td>0</td>\n",
              "    </tr>\n",
              "    <tr>\n",
              "      <th>does-bruise-or-bleed</th>\n",
              "      <td>0</td>\n",
              "    </tr>\n",
              "    <tr>\n",
              "      <th>gill-attachment</th>\n",
              "      <td>9884</td>\n",
              "    </tr>\n",
              "    <tr>\n",
              "      <th>gill-spacing</th>\n",
              "      <td>25063</td>\n",
              "    </tr>\n",
              "    <tr>\n",
              "      <th>gill-color</th>\n",
              "      <td>0</td>\n",
              "    </tr>\n",
              "    <tr>\n",
              "      <th>stem-height</th>\n",
              "      <td>0</td>\n",
              "    </tr>\n",
              "    <tr>\n",
              "      <th>stem-width</th>\n",
              "      <td>0</td>\n",
              "    </tr>\n",
              "    <tr>\n",
              "      <th>stem-surface</th>\n",
              "      <td>38124</td>\n",
              "    </tr>\n",
              "    <tr>\n",
              "      <th>stem-color</th>\n",
              "      <td>0</td>\n",
              "    </tr>\n",
              "    <tr>\n",
              "      <th>has-ring</th>\n",
              "      <td>0</td>\n",
              "    </tr>\n",
              "    <tr>\n",
              "      <th>ring-type</th>\n",
              "      <td>2471</td>\n",
              "    </tr>\n",
              "    <tr>\n",
              "      <th>habitat</th>\n",
              "      <td>0</td>\n",
              "    </tr>\n",
              "    <tr>\n",
              "      <th>season</th>\n",
              "      <td>0</td>\n",
              "    </tr>\n",
              "  </tbody>\n",
              "</table>\n",
              "</div><br><label><b>dtype:</b> int64</label>"
            ]
          },
          "metadata": {},
          "execution_count": 12
        }
      ]
    },
    {
      "cell_type": "markdown",
      "source": [
        "Impute the remaining missing values appropriately using suitable techniques based on the nature of the data, such as mean, median, mode, or unknown"
      ],
      "metadata": {
        "id": "ki-u6jslmTJP"
      }
    },
    {
      "cell_type": "code",
      "source": [
        "for feat, percent in missing_percent.items():\n",
        "    if 75>=percent >0:\n",
        "        print(feat,X_clean[feat].dtype)\n"
      ],
      "metadata": {
        "colab": {
          "base_uri": "https://localhost:8080/"
        },
        "id": "qEvBx_dHow3U",
        "outputId": "58d370a2-e3cb-422a-a4b4-0b933d7e41db"
      },
      "execution_count": 13,
      "outputs": [
        {
          "output_type": "stream",
          "name": "stdout",
          "text": [
            "stem-surface object\n",
            "gill-spacing object\n",
            "cap-surface object\n",
            "gill-attachment object\n",
            "ring-type object\n"
          ]
        }
      ]
    },
    {
      "cell_type": "code",
      "source": [
        "#for these categorical columns filling them with unknown\n",
        "X_clean['stem-surface'].fillna('unknown', inplace=True)\n",
        "X_clean['gill-spacing'].fillna('unknown', inplace=True)\n",
        "X_clean['cap-surface'].fillna('unknown', inplace=True)\n",
        "X_clean['gill-attachment'].fillna('unknown', inplace=True)\n",
        "X_clean['ring-type'].fillna('unknown', inplace=True)"
      ],
      "metadata": {
        "colab": {
          "base_uri": "https://localhost:8080/"
        },
        "id": "xqht84-TmQhZ",
        "outputId": "ce017fc4-e30e-489c-d2af-668828dd6ff1"
      },
      "execution_count": 14,
      "outputs": [
        {
          "output_type": "stream",
          "name": "stderr",
          "text": [
            "<ipython-input-14-0b9d0e7f0d6f>:2: FutureWarning: A value is trying to be set on a copy of a DataFrame or Series through chained assignment using an inplace method.\n",
            "The behavior will change in pandas 3.0. This inplace method will never work because the intermediate object on which we are setting values always behaves as a copy.\n",
            "\n",
            "For example, when doing 'df[col].method(value, inplace=True)', try using 'df.method({col: value}, inplace=True)' or df[col] = df[col].method(value) instead, to perform the operation inplace on the original object.\n",
            "\n",
            "\n",
            "  X_clean['stem-surface'].fillna('unknown', inplace=True)\n",
            "<ipython-input-14-0b9d0e7f0d6f>:3: FutureWarning: A value is trying to be set on a copy of a DataFrame or Series through chained assignment using an inplace method.\n",
            "The behavior will change in pandas 3.0. This inplace method will never work because the intermediate object on which we are setting values always behaves as a copy.\n",
            "\n",
            "For example, when doing 'df[col].method(value, inplace=True)', try using 'df.method({col: value}, inplace=True)' or df[col] = df[col].method(value) instead, to perform the operation inplace on the original object.\n",
            "\n",
            "\n",
            "  X_clean['gill-spacing'].fillna('unknown', inplace=True)\n",
            "<ipython-input-14-0b9d0e7f0d6f>:4: FutureWarning: A value is trying to be set on a copy of a DataFrame or Series through chained assignment using an inplace method.\n",
            "The behavior will change in pandas 3.0. This inplace method will never work because the intermediate object on which we are setting values always behaves as a copy.\n",
            "\n",
            "For example, when doing 'df[col].method(value, inplace=True)', try using 'df.method({col: value}, inplace=True)' or df[col] = df[col].method(value) instead, to perform the operation inplace on the original object.\n",
            "\n",
            "\n",
            "  X_clean['cap-surface'].fillna('unknown', inplace=True)\n",
            "<ipython-input-14-0b9d0e7f0d6f>:5: FutureWarning: A value is trying to be set on a copy of a DataFrame or Series through chained assignment using an inplace method.\n",
            "The behavior will change in pandas 3.0. This inplace method will never work because the intermediate object on which we are setting values always behaves as a copy.\n",
            "\n",
            "For example, when doing 'df[col].method(value, inplace=True)', try using 'df.method({col: value}, inplace=True)' or df[col] = df[col].method(value) instead, to perform the operation inplace on the original object.\n",
            "\n",
            "\n",
            "  X_clean['gill-attachment'].fillna('unknown', inplace=True)\n",
            "<ipython-input-14-0b9d0e7f0d6f>:6: FutureWarning: A value is trying to be set on a copy of a DataFrame or Series through chained assignment using an inplace method.\n",
            "The behavior will change in pandas 3.0. This inplace method will never work because the intermediate object on which we are setting values always behaves as a copy.\n",
            "\n",
            "For example, when doing 'df[col].method(value, inplace=True)', try using 'df.method({col: value}, inplace=True)' or df[col] = df[col].method(value) instead, to perform the operation inplace on the original object.\n",
            "\n",
            "\n",
            "  X_clean['ring-type'].fillna('unknown', inplace=True)\n"
          ]
        }
      ]
    },
    {
      "cell_type": "markdown",
      "source": [
        "# **Step 5:Checking for Duplicates**\n",
        "Droping duplicates if any"
      ],
      "metadata": {
        "id": "3KkBE7ysWvGF"
      }
    },
    {
      "cell_type": "code",
      "source": [
        "X_clean.duplicated().sum()"
      ],
      "metadata": {
        "colab": {
          "base_uri": "https://localhost:8080/"
        },
        "id": "plXoIkjaW5w4",
        "outputId": "67c58088-1c49-4548-949c-347f43fc750d"
      },
      "execution_count": 15,
      "outputs": [
        {
          "output_type": "execute_result",
          "data": {
            "text/plain": [
              "np.int64(146)"
            ]
          },
          "metadata": {},
          "execution_count": 15
        }
      ]
    },
    {
      "cell_type": "code",
      "source": [
        "# Find the indices of duplicate rows in X_clean\n",
        "duplicate_indices = X_clean[X_clean.duplicated()].index\n",
        "\n",
        "# Print the number of duplicate rows found\n",
        "print(f\"Number of duplicate rows found in X_clean: {len(duplicate_indices)}\")\n",
        "\n",
        "# Drop the duplicate rows from X_clean\n",
        "X_clean = X_clean.drop(duplicate_indices)\n",
        "\n"
      ],
      "metadata": {
        "colab": {
          "base_uri": "https://localhost:8080/"
        },
        "id": "3EmTVp_vYGqK",
        "outputId": "ef5f4c4d-50db-4905-afbb-7942d56e28d4"
      },
      "execution_count": 16,
      "outputs": [
        {
          "output_type": "stream",
          "name": "stdout",
          "text": [
            "Number of duplicate rows found in X_clean: 146\n"
          ]
        }
      ]
    },
    {
      "cell_type": "code",
      "source": [
        "# Drop the corresponding rows from y using the same indices\n",
        "y = y.drop(duplicate_indices)\n"
      ],
      "metadata": {
        "id": "RckNsLUxYZjN"
      },
      "execution_count": 17,
      "outputs": []
    },
    {
      "cell_type": "code",
      "source": [
        "print(\"Duplicate rows and corresponding target values deleted successfully.\")\n",
        "\n",
        "# Verify the shapes after dropping duplicates\n",
        "print(\"Shape of X_clean after dropping duplicates:\", X_clean.shape)\n",
        "print(\"Shape of y after dropping corresponding targets:\", y.shape)\n",
        "\n",
        "# Check for duplicates again to confirm removal\n",
        "print(\"Number of duplicate rows remaining in X_clean:\", X_clean.duplicated().sum())\n",
        "print(\"Number of duplicate rows remaining in y:\", y.duplicated().sum())"
      ],
      "metadata": {
        "colab": {
          "base_uri": "https://localhost:8080/"
        },
        "id": "GY1uSnuNYdYj",
        "outputId": "1f06623e-ca25-4fef-ffeb-b806763b8107"
      },
      "execution_count": 18,
      "outputs": [
        {
          "output_type": "stream",
          "name": "stdout",
          "text": [
            "Duplicate rows and corresponding target values deleted successfully.\n",
            "Shape of X_clean after dropping duplicates: (60923, 16)\n",
            "Shape of y after dropping corresponding targets: (60923, 1)\n",
            "Number of duplicate rows remaining in X_clean: 0\n",
            "Number of duplicate rows remaining in y: 60921\n"
          ]
        }
      ]
    },
    {
      "cell_type": "markdown",
      "source": [
        "# **Step 6:Finding and Handling outliers**\n",
        "Outliers are extreme values that can distort your model, reduce accuracy, and mislead analysis.Hence handling them properly is necessary"
      ],
      "metadata": {
        "id": "LBTVO6NvZBg_"
      }
    },
    {
      "cell_type": "code",
      "source": [
        "num_cols=X_clean.select_dtypes(include='number')\n",
        "num_cols"
      ],
      "metadata": {
        "colab": {
          "base_uri": "https://localhost:8080/",
          "height": 423
        },
        "id": "tZpq_YOAY3u-",
        "outputId": "48dfb594-e669-4f76-acf3-0fc509e059fb"
      },
      "execution_count": 19,
      "outputs": [
        {
          "output_type": "execute_result",
          "data": {
            "text/plain": [
              "       cap-diameter  stem-height  stem-width\n",
              "0             15.26        16.95       17.09\n",
              "1             16.60        17.99       18.19\n",
              "2             14.07        17.80       17.74\n",
              "3             14.17        15.77       15.98\n",
              "4             14.64        16.53       17.20\n",
              "...             ...          ...         ...\n",
              "61064          1.18         3.93        6.22\n",
              "61065          1.27         3.18        5.43\n",
              "61066          1.27         3.86        6.37\n",
              "61067          1.24         3.56        5.44\n",
              "61068          1.17         3.25        5.45\n",
              "\n",
              "[60923 rows x 3 columns]"
            ],
            "text/html": [
              "\n",
              "  <div id=\"df-8ab40991-ef32-4acd-8267-cfffbc3db63d\" class=\"colab-df-container\">\n",
              "    <div>\n",
              "<style scoped>\n",
              "    .dataframe tbody tr th:only-of-type {\n",
              "        vertical-align: middle;\n",
              "    }\n",
              "\n",
              "    .dataframe tbody tr th {\n",
              "        vertical-align: top;\n",
              "    }\n",
              "\n",
              "    .dataframe thead th {\n",
              "        text-align: right;\n",
              "    }\n",
              "</style>\n",
              "<table border=\"1\" class=\"dataframe\">\n",
              "  <thead>\n",
              "    <tr style=\"text-align: right;\">\n",
              "      <th></th>\n",
              "      <th>cap-diameter</th>\n",
              "      <th>stem-height</th>\n",
              "      <th>stem-width</th>\n",
              "    </tr>\n",
              "  </thead>\n",
              "  <tbody>\n",
              "    <tr>\n",
              "      <th>0</th>\n",
              "      <td>15.26</td>\n",
              "      <td>16.95</td>\n",
              "      <td>17.09</td>\n",
              "    </tr>\n",
              "    <tr>\n",
              "      <th>1</th>\n",
              "      <td>16.60</td>\n",
              "      <td>17.99</td>\n",
              "      <td>18.19</td>\n",
              "    </tr>\n",
              "    <tr>\n",
              "      <th>2</th>\n",
              "      <td>14.07</td>\n",
              "      <td>17.80</td>\n",
              "      <td>17.74</td>\n",
              "    </tr>\n",
              "    <tr>\n",
              "      <th>3</th>\n",
              "      <td>14.17</td>\n",
              "      <td>15.77</td>\n",
              "      <td>15.98</td>\n",
              "    </tr>\n",
              "    <tr>\n",
              "      <th>4</th>\n",
              "      <td>14.64</td>\n",
              "      <td>16.53</td>\n",
              "      <td>17.20</td>\n",
              "    </tr>\n",
              "    <tr>\n",
              "      <th>...</th>\n",
              "      <td>...</td>\n",
              "      <td>...</td>\n",
              "      <td>...</td>\n",
              "    </tr>\n",
              "    <tr>\n",
              "      <th>61064</th>\n",
              "      <td>1.18</td>\n",
              "      <td>3.93</td>\n",
              "      <td>6.22</td>\n",
              "    </tr>\n",
              "    <tr>\n",
              "      <th>61065</th>\n",
              "      <td>1.27</td>\n",
              "      <td>3.18</td>\n",
              "      <td>5.43</td>\n",
              "    </tr>\n",
              "    <tr>\n",
              "      <th>61066</th>\n",
              "      <td>1.27</td>\n",
              "      <td>3.86</td>\n",
              "      <td>6.37</td>\n",
              "    </tr>\n",
              "    <tr>\n",
              "      <th>61067</th>\n",
              "      <td>1.24</td>\n",
              "      <td>3.56</td>\n",
              "      <td>5.44</td>\n",
              "    </tr>\n",
              "    <tr>\n",
              "      <th>61068</th>\n",
              "      <td>1.17</td>\n",
              "      <td>3.25</td>\n",
              "      <td>5.45</td>\n",
              "    </tr>\n",
              "  </tbody>\n",
              "</table>\n",
              "<p>60923 rows × 3 columns</p>\n",
              "</div>\n",
              "    <div class=\"colab-df-buttons\">\n",
              "\n",
              "  <div class=\"colab-df-container\">\n",
              "    <button class=\"colab-df-convert\" onclick=\"convertToInteractive('df-8ab40991-ef32-4acd-8267-cfffbc3db63d')\"\n",
              "            title=\"Convert this dataframe to an interactive table.\"\n",
              "            style=\"display:none;\">\n",
              "\n",
              "  <svg xmlns=\"http://www.w3.org/2000/svg\" height=\"24px\" viewBox=\"0 -960 960 960\">\n",
              "    <path d=\"M120-120v-720h720v720H120Zm60-500h600v-160H180v160Zm220 220h160v-160H400v160Zm0 220h160v-160H400v160ZM180-400h160v-160H180v160Zm440 0h160v-160H620v160ZM180-180h160v-160H180v160Zm440 0h160v-160H620v160Z\"/>\n",
              "  </svg>\n",
              "    </button>\n",
              "\n",
              "  <style>\n",
              "    .colab-df-container {\n",
              "      display:flex;\n",
              "      gap: 12px;\n",
              "    }\n",
              "\n",
              "    .colab-df-convert {\n",
              "      background-color: #E8F0FE;\n",
              "      border: none;\n",
              "      border-radius: 50%;\n",
              "      cursor: pointer;\n",
              "      display: none;\n",
              "      fill: #1967D2;\n",
              "      height: 32px;\n",
              "      padding: 0 0 0 0;\n",
              "      width: 32px;\n",
              "    }\n",
              "\n",
              "    .colab-df-convert:hover {\n",
              "      background-color: #E2EBFA;\n",
              "      box-shadow: 0px 1px 2px rgba(60, 64, 67, 0.3), 0px 1px 3px 1px rgba(60, 64, 67, 0.15);\n",
              "      fill: #174EA6;\n",
              "    }\n",
              "\n",
              "    .colab-df-buttons div {\n",
              "      margin-bottom: 4px;\n",
              "    }\n",
              "\n",
              "    [theme=dark] .colab-df-convert {\n",
              "      background-color: #3B4455;\n",
              "      fill: #D2E3FC;\n",
              "    }\n",
              "\n",
              "    [theme=dark] .colab-df-convert:hover {\n",
              "      background-color: #434B5C;\n",
              "      box-shadow: 0px 1px 3px 1px rgba(0, 0, 0, 0.15);\n",
              "      filter: drop-shadow(0px 1px 2px rgba(0, 0, 0, 0.3));\n",
              "      fill: #FFFFFF;\n",
              "    }\n",
              "  </style>\n",
              "\n",
              "    <script>\n",
              "      const buttonEl =\n",
              "        document.querySelector('#df-8ab40991-ef32-4acd-8267-cfffbc3db63d button.colab-df-convert');\n",
              "      buttonEl.style.display =\n",
              "        google.colab.kernel.accessAllowed ? 'block' : 'none';\n",
              "\n",
              "      async function convertToInteractive(key) {\n",
              "        const element = document.querySelector('#df-8ab40991-ef32-4acd-8267-cfffbc3db63d');\n",
              "        const dataTable =\n",
              "          await google.colab.kernel.invokeFunction('convertToInteractive',\n",
              "                                                    [key], {});\n",
              "        if (!dataTable) return;\n",
              "\n",
              "        const docLinkHtml = 'Like what you see? Visit the ' +\n",
              "          '<a target=\"_blank\" href=https://colab.research.google.com/notebooks/data_table.ipynb>data table notebook</a>'\n",
              "          + ' to learn more about interactive tables.';\n",
              "        element.innerHTML = '';\n",
              "        dataTable['output_type'] = 'display_data';\n",
              "        await google.colab.output.renderOutput(dataTable, element);\n",
              "        const docLink = document.createElement('div');\n",
              "        docLink.innerHTML = docLinkHtml;\n",
              "        element.appendChild(docLink);\n",
              "      }\n",
              "    </script>\n",
              "  </div>\n",
              "\n",
              "\n",
              "    <div id=\"df-e6710adf-8f14-40c8-985d-5a1a47bfe244\">\n",
              "      <button class=\"colab-df-quickchart\" onclick=\"quickchart('df-e6710adf-8f14-40c8-985d-5a1a47bfe244')\"\n",
              "                title=\"Suggest charts\"\n",
              "                style=\"display:none;\">\n",
              "\n",
              "<svg xmlns=\"http://www.w3.org/2000/svg\" height=\"24px\"viewBox=\"0 0 24 24\"\n",
              "     width=\"24px\">\n",
              "    <g>\n",
              "        <path d=\"M19 3H5c-1.1 0-2 .9-2 2v14c0 1.1.9 2 2 2h14c1.1 0 2-.9 2-2V5c0-1.1-.9-2-2-2zM9 17H7v-7h2v7zm4 0h-2V7h2v10zm4 0h-2v-4h2v4z\"/>\n",
              "    </g>\n",
              "</svg>\n",
              "      </button>\n",
              "\n",
              "<style>\n",
              "  .colab-df-quickchart {\n",
              "      --bg-color: #E8F0FE;\n",
              "      --fill-color: #1967D2;\n",
              "      --hover-bg-color: #E2EBFA;\n",
              "      --hover-fill-color: #174EA6;\n",
              "      --disabled-fill-color: #AAA;\n",
              "      --disabled-bg-color: #DDD;\n",
              "  }\n",
              "\n",
              "  [theme=dark] .colab-df-quickchart {\n",
              "      --bg-color: #3B4455;\n",
              "      --fill-color: #D2E3FC;\n",
              "      --hover-bg-color: #434B5C;\n",
              "      --hover-fill-color: #FFFFFF;\n",
              "      --disabled-bg-color: #3B4455;\n",
              "      --disabled-fill-color: #666;\n",
              "  }\n",
              "\n",
              "  .colab-df-quickchart {\n",
              "    background-color: var(--bg-color);\n",
              "    border: none;\n",
              "    border-radius: 50%;\n",
              "    cursor: pointer;\n",
              "    display: none;\n",
              "    fill: var(--fill-color);\n",
              "    height: 32px;\n",
              "    padding: 0;\n",
              "    width: 32px;\n",
              "  }\n",
              "\n",
              "  .colab-df-quickchart:hover {\n",
              "    background-color: var(--hover-bg-color);\n",
              "    box-shadow: 0 1px 2px rgba(60, 64, 67, 0.3), 0 1px 3px 1px rgba(60, 64, 67, 0.15);\n",
              "    fill: var(--button-hover-fill-color);\n",
              "  }\n",
              "\n",
              "  .colab-df-quickchart-complete:disabled,\n",
              "  .colab-df-quickchart-complete:disabled:hover {\n",
              "    background-color: var(--disabled-bg-color);\n",
              "    fill: var(--disabled-fill-color);\n",
              "    box-shadow: none;\n",
              "  }\n",
              "\n",
              "  .colab-df-spinner {\n",
              "    border: 2px solid var(--fill-color);\n",
              "    border-color: transparent;\n",
              "    border-bottom-color: var(--fill-color);\n",
              "    animation:\n",
              "      spin 1s steps(1) infinite;\n",
              "  }\n",
              "\n",
              "  @keyframes spin {\n",
              "    0% {\n",
              "      border-color: transparent;\n",
              "      border-bottom-color: var(--fill-color);\n",
              "      border-left-color: var(--fill-color);\n",
              "    }\n",
              "    20% {\n",
              "      border-color: transparent;\n",
              "      border-left-color: var(--fill-color);\n",
              "      border-top-color: var(--fill-color);\n",
              "    }\n",
              "    30% {\n",
              "      border-color: transparent;\n",
              "      border-left-color: var(--fill-color);\n",
              "      border-top-color: var(--fill-color);\n",
              "      border-right-color: var(--fill-color);\n",
              "    }\n",
              "    40% {\n",
              "      border-color: transparent;\n",
              "      border-right-color: var(--fill-color);\n",
              "      border-top-color: var(--fill-color);\n",
              "    }\n",
              "    60% {\n",
              "      border-color: transparent;\n",
              "      border-right-color: var(--fill-color);\n",
              "    }\n",
              "    80% {\n",
              "      border-color: transparent;\n",
              "      border-right-color: var(--fill-color);\n",
              "      border-bottom-color: var(--fill-color);\n",
              "    }\n",
              "    90% {\n",
              "      border-color: transparent;\n",
              "      border-bottom-color: var(--fill-color);\n",
              "    }\n",
              "  }\n",
              "</style>\n",
              "\n",
              "      <script>\n",
              "        async function quickchart(key) {\n",
              "          const quickchartButtonEl =\n",
              "            document.querySelector('#' + key + ' button');\n",
              "          quickchartButtonEl.disabled = true;  // To prevent multiple clicks.\n",
              "          quickchartButtonEl.classList.add('colab-df-spinner');\n",
              "          try {\n",
              "            const charts = await google.colab.kernel.invokeFunction(\n",
              "                'suggestCharts', [key], {});\n",
              "          } catch (error) {\n",
              "            console.error('Error during call to suggestCharts:', error);\n",
              "          }\n",
              "          quickchartButtonEl.classList.remove('colab-df-spinner');\n",
              "          quickchartButtonEl.classList.add('colab-df-quickchart-complete');\n",
              "        }\n",
              "        (() => {\n",
              "          let quickchartButtonEl =\n",
              "            document.querySelector('#df-e6710adf-8f14-40c8-985d-5a1a47bfe244 button');\n",
              "          quickchartButtonEl.style.display =\n",
              "            google.colab.kernel.accessAllowed ? 'block' : 'none';\n",
              "        })();\n",
              "      </script>\n",
              "    </div>\n",
              "\n",
              "  <div id=\"id_d1caeda7-4c92-4694-b851-b406b51169a9\">\n",
              "    <style>\n",
              "      .colab-df-generate {\n",
              "        background-color: #E8F0FE;\n",
              "        border: none;\n",
              "        border-radius: 50%;\n",
              "        cursor: pointer;\n",
              "        display: none;\n",
              "        fill: #1967D2;\n",
              "        height: 32px;\n",
              "        padding: 0 0 0 0;\n",
              "        width: 32px;\n",
              "      }\n",
              "\n",
              "      .colab-df-generate:hover {\n",
              "        background-color: #E2EBFA;\n",
              "        box-shadow: 0px 1px 2px rgba(60, 64, 67, 0.3), 0px 1px 3px 1px rgba(60, 64, 67, 0.15);\n",
              "        fill: #174EA6;\n",
              "      }\n",
              "\n",
              "      [theme=dark] .colab-df-generate {\n",
              "        background-color: #3B4455;\n",
              "        fill: #D2E3FC;\n",
              "      }\n",
              "\n",
              "      [theme=dark] .colab-df-generate:hover {\n",
              "        background-color: #434B5C;\n",
              "        box-shadow: 0px 1px 3px 1px rgba(0, 0, 0, 0.15);\n",
              "        filter: drop-shadow(0px 1px 2px rgba(0, 0, 0, 0.3));\n",
              "        fill: #FFFFFF;\n",
              "      }\n",
              "    </style>\n",
              "    <button class=\"colab-df-generate\" onclick=\"generateWithVariable('num_cols')\"\n",
              "            title=\"Generate code using this dataframe.\"\n",
              "            style=\"display:none;\">\n",
              "\n",
              "  <svg xmlns=\"http://www.w3.org/2000/svg\" height=\"24px\"viewBox=\"0 0 24 24\"\n",
              "       width=\"24px\">\n",
              "    <path d=\"M7,19H8.4L18.45,9,17,7.55,7,17.6ZM5,21V16.75L18.45,3.32a2,2,0,0,1,2.83,0l1.4,1.43a1.91,1.91,0,0,1,.58,1.4,1.91,1.91,0,0,1-.58,1.4L9.25,21ZM18.45,9,17,7.55Zm-12,3A5.31,5.31,0,0,0,4.9,8.1,5.31,5.31,0,0,0,1,6.5,5.31,5.31,0,0,0,4.9,4.9,5.31,5.31,0,0,0,6.5,1,5.31,5.31,0,0,0,8.1,4.9,5.31,5.31,0,0,0,12,6.5,5.46,5.46,0,0,0,6.5,12Z\"/>\n",
              "  </svg>\n",
              "    </button>\n",
              "    <script>\n",
              "      (() => {\n",
              "      const buttonEl =\n",
              "        document.querySelector('#id_d1caeda7-4c92-4694-b851-b406b51169a9 button.colab-df-generate');\n",
              "      buttonEl.style.display =\n",
              "        google.colab.kernel.accessAllowed ? 'block' : 'none';\n",
              "\n",
              "      buttonEl.onclick = () => {\n",
              "        google.colab.notebook.generateWithVariable('num_cols');\n",
              "      }\n",
              "      })();\n",
              "    </script>\n",
              "  </div>\n",
              "\n",
              "    </div>\n",
              "  </div>\n"
            ],
            "application/vnd.google.colaboratory.intrinsic+json": {
              "type": "dataframe",
              "variable_name": "num_cols",
              "summary": "{\n  \"name\": \"num_cols\",\n  \"rows\": 60923,\n  \"fields\": [\n    {\n      \"column\": \"cap-diameter\",\n      \"properties\": {\n        \"dtype\": \"number\",\n        \"std\": 5.268435178043594,\n        \"min\": 0.38,\n        \"max\": 62.34,\n        \"num_unique_values\": 2571,\n        \"samples\": [\n          16.45,\n          21.75,\n          39.79\n        ],\n        \"semantic_type\": \"\",\n        \"description\": \"\"\n      }\n    },\n    {\n      \"column\": \"stem-height\",\n      \"properties\": {\n        \"dtype\": \"number\",\n        \"std\": 3.358756979107249,\n        \"min\": 0.0,\n        \"max\": 33.92,\n        \"num_unique_values\": 2226,\n        \"samples\": [\n          16.65,\n          10.72,\n          14.22\n        ],\n        \"semantic_type\": \"\",\n        \"description\": \"\"\n      }\n    },\n    {\n      \"column\": \"stem-width\",\n      \"properties\": {\n        \"dtype\": \"number\",\n        \"std\": 10.030360750684125,\n        \"min\": 0.0,\n        \"max\": 103.91,\n        \"num_unique_values\": 4630,\n        \"samples\": [\n          12.33,\n          2.08,\n          46.09\n        ],\n        \"semantic_type\": \"\",\n        \"description\": \"\"\n      }\n    }\n  ]\n}"
            }
          },
          "metadata": {},
          "execution_count": 19
        }
      ]
    },
    {
      "cell_type": "code",
      "source": [
        "for i in num_cols:\n",
        "  sns.boxplot(data=X_clean,x=i)\n",
        "  plt.title('Before handling Outliers')\n",
        "  plt.show()"
      ],
      "metadata": {
        "colab": {
          "base_uri": "https://localhost:8080/",
          "height": 1000
        },
        "id": "PyuqzLAHZUJ8",
        "outputId": "a68216ef-6438-45aa-f9a9-569a2976857b"
      },
      "execution_count": 20,
      "outputs": [
        {
          "output_type": "display_data",
          "data": {
            "text/plain": [
              "<Figure size 640x480 with 1 Axes>"
            ],
            "image/png": "[encoded data removed]"
          },
          "metadata": {}
        },
        {
          "output_type": "display_data",
          "data": {
            "text/plain": [
              "<Figure size 640x480 with 1 Axes>"
            ],
            "image/png": "[encoded data removed]"
          },
          "metadata": {}
        },
        {
          "output_type": "display_data",
          "data": {
            "text/plain": [
              "<Figure size 640x480 with 1 Axes>"
            ],
            "image/png": "[encoded data removed]"
          },
          "metadata": {}
        }
      ]
    },
    {
      "cell_type": "code",
      "source": [
        "def outliers(X_clean):\n",
        "  for col in X_clean.select_dtypes(include=['int64', 'float64']).columns:\n",
        "        Q1 = X_clean[col].quantile(0.25)\n",
        "        Q3 = X_clean[col].quantile(0.75)\n",
        "        IQR = Q3 - Q1\n",
        "\n",
        "        lower = Q1 - (1.5 * IQR)\n",
        "        upper = Q3 + (1.5 * IQR)\n",
        "\n",
        "        # Capping\n",
        "        X_clean[col] = X_clean[col].apply(lambda x: lower if x < lower else upper if x > upper else x)\n",
        "\n",
        "  return X_clean"
      ],
      "metadata": {
        "id": "Jt6wZzUrZoHx"
      },
      "execution_count": 21,
      "outputs": []
    },
    {
      "cell_type": "code",
      "source": [
        "X_clean=outliers(X_clean)"
      ],
      "metadata": {
        "id": "R5mEPkRRaALV"
      },
      "execution_count": 22,
      "outputs": []
    },
    {
      "cell_type": "code",
      "source": [
        "for i in num_cols:\n",
        "  sns.boxplot(data=X_clean,x=i)\n",
        "  plt.title('After handling outliers')\n",
        "  plt.show()"
      ],
      "metadata": {
        "colab": {
          "base_uri": "https://localhost:8080/",
          "height": 1000
        },
        "id": "pmyBLXIPaGSs",
        "outputId": "84131fe9-7add-4736-b6b3-161413ab165e"
      },
      "execution_count": 23,
      "outputs": [
        {
          "output_type": "display_data",
          "data": {
            "text/plain": [
              "<Figure size 640x480 with 1 Axes>"
            ],
            "image/png": "[encoded data removed]"
          },
          "metadata": {}
        },
        {
          "output_type": "display_data",
          "data": {
            "text/plain": [
              "<Figure size 640x480 with 1 Axes>"
            ],
            "image/png": "[encoded data removed]"
          },
          "metadata": {}
        },
        {
          "output_type": "display_data",
          "data": {
            "text/plain": [
              "<Figure size 640x480 with 1 Axes>"
            ],
            "image/png": "[encoded data removed]"
          },
          "metadata": {}
        }
      ]
    },
    {
      "cell_type": "code",
      "source": [
        "X_clean.shape"
      ],
      "metadata": {
        "colab": {
          "base_uri": "https://localhost:8080/"
        },
        "id": "LRAJ0bBocoke",
        "outputId": "212ae469-8f1b-4f50-e817-eecd86bc98e8"
      },
      "execution_count": 24,
      "outputs": [
        {
          "output_type": "execute_result",
          "data": {
            "text/plain": [
              "(60923, 16)"
            ]
          },
          "metadata": {},
          "execution_count": 24
        }
      ]
    },
    {
      "cell_type": "markdown",
      "source": [
        "# **Step 7: Encoding catagorical data**\n",
        "Converting categorical data (text or labels) into a numeric format that machine learning models can understand."
      ],
      "metadata": {
        "id": "adFZInj54lYR"
      }
    },
    {
      "cell_type": "code",
      "source": [
        "print(X_clean.dtypes)\n",
        "X_encoded = pd.get_dummies(X_clean, drop_first=True)\n",
        "print(X_encoded.dtypes)\n",
        "print(X_encoded.head())"
      ],
      "metadata": {
        "colab": {
          "base_uri": "https://localhost:8080/"
        },
        "id": "BVllkjcB4kwY",
        "outputId": "2e16773a-3aa5-47e1-bc32-f4b82bdc2f01"
      },
      "execution_count": 25,
      "outputs": [
        {
          "output_type": "stream",
          "name": "stdout",
          "text": [
            "cap-diameter            float64\n",
            "cap-shape                object\n",
            "cap-surface              object\n",
            "cap-color                object\n",
            "does-bruise-or-bleed     object\n",
            "gill-attachment          object\n",
            "gill-spacing             object\n",
            "gill-color               object\n",
            "stem-height             float64\n",
            "stem-width              float64\n",
            "stem-surface             object\n",
            "stem-color               object\n",
            "has-ring                 object\n",
            "ring-type                object\n",
            "habitat                  object\n",
            "season                   object\n",
            "dtype: object\n",
            "cap-diameter    float64\n",
            "stem-height     float64\n",
            "stem-width      float64\n",
            "cap-shape_c        bool\n",
            "cap-shape_f        bool\n",
            "                 ...   \n",
            "habitat_u          bool\n",
            "habitat_w          bool\n",
            "season_s           bool\n",
            "season_u           bool\n",
            "season_w           bool\n",
            "Length: 92, dtype: object\n",
            "   cap-diameter  stem-height  stem-width  cap-shape_c  cap-shape_f  \\\n",
            "0         15.26         12.4       17.09        False        False   \n",
            "1         16.14         12.4       18.19        False        False   \n",
            "2         14.07         12.4       17.74        False        False   \n",
            "3         14.17         12.4       15.98        False         True   \n",
            "4         14.64         12.4       17.20        False        False   \n",
            "\n",
            "   cap-shape_o  cap-shape_p  cap-shape_s  cap-shape_x  cap-surface_e  ...  \\\n",
            "0        False        False        False         True          False  ...   \n",
            "1        False        False        False         True          False  ...   \n",
            "2        False        False        False         True          False  ...   \n",
            "3        False        False        False        False          False  ...   \n",
            "4        False        False        False         True          False  ...   \n",
            "\n",
            "   habitat_g  habitat_h  habitat_l  habitat_m  habitat_p  habitat_u  \\\n",
            "0      False      False      False      False      False      False   \n",
            "1      False      False      False      False      False      False   \n",
            "2      False      False      False      False      False      False   \n",
            "3      False      False      False      False      False      False   \n",
            "4      False      False      False      False      False      False   \n",
            "\n",
            "   habitat_w  season_s  season_u  season_w  \n",
            "0      False     False     False      True  \n",
            "1      False     False      True     False  \n",
            "2      False     False     False      True  \n",
            "3      False     False     False      True  \n",
            "4      False     False     False      True  \n",
            "\n",
            "[5 rows x 92 columns]\n"
          ]
        }
      ]
    },
    {
      "cell_type": "code",
      "source": [
        "LE=LabelEncoder()\n",
        "y['class']= LE.fit_transform(y['class'])\n",
        "y.head()\n",
        "y_encoded=y"
      ],
      "metadata": {
        "id": "cUg0X4cedqC4"
      },
      "execution_count": 26,
      "outputs": []
    },
    {
      "cell_type": "markdown",
      "source": [
        "# **Step 8: Skewness**\n",
        "To find the skewness of the dataset"
      ],
      "metadata": {
        "id": "zLIZwtjGhwe0"
      }
    },
    {
      "cell_type": "code",
      "source": [
        "from sklearn.preprocessing import PowerTransformer\n",
        "\n",
        "# Initialize the transformer (Yeo-Johnson works with zero/negative values)\n",
        "pt = PowerTransformer(method='yeo-johnson')\n"
      ],
      "metadata": {
        "id": "LW0JGFvmmFWe"
      },
      "execution_count": 27,
      "outputs": []
    },
    {
      "cell_type": "code",
      "source": [
        "numerical_col = X_encoded.select_dtypes(include= 'number').columns\n",
        "print(X_encoded[numerical_col].skew())"
      ],
      "metadata": {
        "colab": {
          "base_uri": "https://localhost:8080/"
        },
        "id": "HdkPOdpAr2t6",
        "outputId": "67430b2d-c9d8-4ff5-d7c1-2d2a4fd1ddcb"
      },
      "execution_count": 28,
      "outputs": [
        {
          "output_type": "stream",
          "name": "stdout",
          "text": [
            "cap-diameter    0.79101\n",
            "stem-height     0.54777\n",
            "stem-width      0.86675\n",
            "dtype: float64\n"
          ]
        }
      ]
    },
    {
      "cell_type": "code",
      "source": [
        "X_encoded[numerical_col] = pt.fit_transform(X_encoded[numerical_col])\n",
        "print(X_encoded[numerical_col].skew())"
      ],
      "metadata": {
        "colab": {
          "base_uri": "https://localhost:8080/"
        },
        "id": "oCPHJg1lr561",
        "outputId": "e21fa368-0fd3-47cf-93fc-94bb7aa477aa"
      },
      "execution_count": 29,
      "outputs": [
        {
          "output_type": "stream",
          "name": "stdout",
          "text": [
            "cap-diameter   -0.027865\n",
            "stem-height     0.067591\n",
            "stem-width     -0.054495\n",
            "dtype: float64\n"
          ]
        }
      ]
    },
    {
      "cell_type": "code",
      "source": [
        "for i in numerical_col:\n",
        "  sns.histplot(data=X_encoded,x=i,kde=True)\n",
        "  plt.show()"
      ],
      "metadata": {
        "colab": {
          "base_uri": "https://localhost:8080/",
          "height": 1000
        },
        "id": "jSwrIHZosovo",
        "outputId": "ffeef20d-f1d5-44d4-eb74-35a033658732"
      },
      "execution_count": 30,
      "outputs": [
        {
          "output_type": "display_data",
          "data": {
            "text/plain": [
              "<Figure size 640x480 with 1 Axes>"
            ],
            "image/png": "[encoded data removed]"
          },
          "metadata": {}
        },
        {
          "output_type": "display_data",
          "data": {
            "text/plain": [
              "<Figure size 640x480 with 1 Axes>"
            ],
            "image/png": "[encoded data removed]"
          },
          "metadata": {}
        },
        {
          "output_type": "display_data",
          "data": {
            "text/plain": [
              "<Figure size 640x480 with 1 Axes>"
            ],
            "image/png": "[encoded data removed]"
          },
          "metadata": {}
        }
      ]
    },
    {
      "cell_type": "markdown",
      "source": [
        "# **Step 9: Correlation and Heatmap**\n",
        "\n",
        "Finding correlation and plotting them into a heatmap"
      ],
      "metadata": {
        "id": "X3d6zXfw2RkG"
      }
    },
    {
      "cell_type": "code",
      "source": [
        "cor= X_encoded.corr()\n",
        "cor"
      ],
      "metadata": {
        "colab": {
          "base_uri": "https://localhost:8080/",
          "height": 547
        },
        "id": "CWHGb5Co16GQ",
        "outputId": "9fb486d9-92af-4230-94f9-fef3600a7dce"
      },
      "execution_count": 31,
      "outputs": [
        {
          "output_type": "execute_result",
          "data": {
            "text/plain": [
              "              cap-diameter  stem-height  stem-width  cap-shape_c  cap-shape_f  \\\n",
              "cap-diameter      1.000000     0.522562    0.846846    -0.127536     0.062686   \n",
              "stem-height       0.522562     1.000000    0.512512     0.004347    -0.016018   \n",
              "stem-width        0.846846     0.512512    1.000000    -0.096462     0.014906   \n",
              "cap-shape_c      -0.127536     0.004347   -0.096462     1.000000    -0.093068   \n",
              "cap-shape_f       0.062686    -0.016018    0.014906    -0.093068     1.000000   \n",
              "...                    ...          ...         ...          ...          ...   \n",
              "habitat_u         0.040028     0.089491    0.013259    -0.007621     0.028023   \n",
              "habitat_w         0.014915    -0.051642    0.024029    -0.013377     0.052902   \n",
              "season_s         -0.063786    -0.050049   -0.038288     0.075351    -0.057158   \n",
              "season_u         -0.033738     0.003156   -0.043128     0.022985    -0.031866   \n",
              "season_w          0.069982    -0.034120    0.042701    -0.053716     0.054676   \n",
              "\n",
              "              cap-shape_o  cap-shape_p  cap-shape_s  cap-shape_x  \\\n",
              "cap-diameter    -0.005347     0.094309     0.100837     0.033859   \n",
              "stem-height     -0.340133     0.210261    -0.104998     0.129993   \n",
              "stem-width       0.028311     0.100310     0.095896     0.058560   \n",
              "cap-shape_c     -0.042042    -0.036983    -0.063969    -0.155979   \n",
              "cap-shape_f     -0.127425    -0.112092    -0.193881    -0.472755   \n",
              "...                   ...          ...          ...          ...   \n",
              "habitat_u       -0.010434     0.101244    -0.015875    -0.038710   \n",
              "habitat_w       -0.018316    -0.016112    -0.027868     0.007817   \n",
              "season_s         0.175496     0.084450    -0.078596    -0.084671   \n",
              "season_u         0.000790    -0.013997     0.031159    -0.010528   \n",
              "season_w         0.038001    -0.020919    -0.026978    -0.001573   \n",
              "\n",
              "              cap-surface_e  ...  habitat_g  habitat_h  habitat_l  habitat_m  \\\n",
              "cap-diameter       0.195549  ...  -0.229171  -0.088991  -0.040522  -0.058789   \n",
              "stem-height        0.108337  ...  -0.049103  -0.046729  -0.009080  -0.001930   \n",
              "stem-width         0.192730  ...  -0.237796  -0.110732  -0.019691  -0.055844   \n",
              "cap-shape_c        0.046478  ...   0.031931  -0.004666   0.060713  -0.039317   \n",
              "cap-shape_f       -0.019173  ...  -0.039960  -0.008281   0.078521   0.037757   \n",
              "...                     ...  ...        ...        ...        ...        ...   \n",
              "habitat_u         -0.009152  ...  -0.016839  -0.008014  -0.010185  -0.009757   \n",
              "habitat_w         -0.016067  ...  -0.029559  -0.014068  -0.017880  -0.017129   \n",
              "season_s          -0.022355  ...  -0.006844  -0.019088   0.009935   0.041316   \n",
              "season_u          -0.066983  ...   0.048318   0.013220  -0.040802   0.006319   \n",
              "season_w           0.012512  ...  -0.029099  -0.056490   0.060651  -0.012837   \n",
              "\n",
              "              habitat_p  habitat_u  habitat_w  season_s  season_u  season_w  \n",
              "cap-diameter  -0.063604   0.040028   0.014915 -0.063786 -0.033738  0.069982  \n",
              "stem-height   -0.054631   0.089491  -0.051642 -0.050049  0.003156 -0.034120  \n",
              "stem-width     0.022150   0.013259   0.024029 -0.038288 -0.043128  0.042701  \n",
              "cap-shape_c    0.103641  -0.007621  -0.013377  0.075351  0.022985 -0.053716  \n",
              "cap-shape_f    0.006614   0.028023   0.052902 -0.057158 -0.031866  0.054676  \n",
              "...                 ...        ...        ...       ...       ...       ...  \n",
              "habitat_u     -0.003353   1.000000  -0.003320  0.040258 -0.014163  0.035253  \n",
              "habitat_w     -0.005886  -0.003320   1.000000 -0.016436  0.021711 -0.023402  \n",
              "season_s      -0.016600   0.040258  -0.016436  1.000000 -0.166796 -0.065999  \n",
              "season_u       0.013703  -0.014163   0.021711 -0.166796  1.000000 -0.237477  \n",
              "season_w      -0.023634   0.035253  -0.023402 -0.065999 -0.237477  1.000000  \n",
              "\n",
              "[92 rows x 92 columns]"
            ],
            "text/html": [
              "\n",
              "  <div id=\"df-99397602-4183-4019-a082-a06f20f1179e\" class=\"colab-df-container\">\n",
              "    <div>\n",
              "<style scoped>\n",
              "    .dataframe tbody tr th:only-of-type {\n",
              "        vertical-align: middle;\n",
              "    }\n",
              "\n",
              "    .dataframe tbody tr th {\n",
              "        vertical-align: top;\n",
              "    }\n",
              "\n",
              "    .dataframe thead th {\n",
              "        text-align: right;\n",
              "    }\n",
              "</style>\n",
              "<table border=\"1\" class=\"dataframe\">\n",
              "  <thead>\n",
              "    <tr style=\"text-align: right;\">\n",
              "      <th></th>\n",
              "      <th>cap-diameter</th>\n",
              "      <th>stem-height</th>\n",
              "      <th>stem-width</th>\n",
              "      <th>cap-shape_c</th>\n",
              "      <th>cap-shape_f</th>\n",
              "      <th>cap-shape_o</th>\n",
              "      <th>cap-shape_p</th>\n",
              "      <th>cap-shape_s</th>\n",
              "      <th>cap-shape_x</th>\n",
              "      <th>cap-surface_e</th>\n",
              "      <th>...</th>\n",
              "      <th>habitat_g</th>\n",
              "      <th>habitat_h</th>\n",
              "      <th>habitat_l</th>\n",
              "      <th>habitat_m</th>\n",
              "      <th>habitat_p</th>\n",
              "      <th>habitat_u</th>\n",
              "      <th>habitat_w</th>\n",
              "      <th>season_s</th>\n",
              "      <th>season_u</th>\n",
              "      <th>season_w</th>\n",
              "    </tr>\n",
              "  </thead>\n",
              "  <tbody>\n",
              "    <tr>\n",
              "      <th>cap-diameter</th>\n",
              "      <td>1.000000</td>\n",
              "      <td>0.522562</td>\n",
              "      <td>0.846846</td>\n",
              "      <td>-0.127536</td>\n",
              "      <td>0.062686</td>\n",
              "      <td>-0.005347</td>\n",
              "      <td>0.094309</td>\n",
              "      <td>0.100837</td>\n",
              "      <td>0.033859</td>\n",
              "      <td>0.195549</td>\n",
              "      <td>...</td>\n",
              "      <td>-0.229171</td>\n",
              "      <td>-0.088991</td>\n",
              "      <td>-0.040522</td>\n",
              "      <td>-0.058789</td>\n",
              "      <td>-0.063604</td>\n",
              "      <td>0.040028</td>\n",
              "      <td>0.014915</td>\n",
              "      <td>-0.063786</td>\n",
              "      <td>-0.033738</td>\n",
              "      <td>0.069982</td>\n",
              "    </tr>\n",
              "    <tr>\n",
              "      <th>stem-height</th>\n",
              "      <td>0.522562</td>\n",
              "      <td>1.000000</td>\n",
              "      <td>0.512512</td>\n",
              "      <td>0.004347</td>\n",
              "      <td>-0.016018</td>\n",
              "      <td>-0.340133</td>\n",
              "      <td>0.210261</td>\n",
              "      <td>-0.104998</td>\n",
              "      <td>0.129993</td>\n",
              "      <td>0.108337</td>\n",
              "      <td>...</td>\n",
              "      <td>-0.049103</td>\n",
              "      <td>-0.046729</td>\n",
              "      <td>-0.009080</td>\n",
              "      <td>-0.001930</td>\n",
              "      <td>-0.054631</td>\n",
              "      <td>0.089491</td>\n",
              "      <td>-0.051642</td>\n",
              "      <td>-0.050049</td>\n",
              "      <td>0.003156</td>\n",
              "      <td>-0.034120</td>\n",
              "    </tr>\n",
              "    <tr>\n",
              "      <th>stem-width</th>\n",
              "      <td>0.846846</td>\n",
              "      <td>0.512512</td>\n",
              "      <td>1.000000</td>\n",
              "      <td>-0.096462</td>\n",
              "      <td>0.014906</td>\n",
              "      <td>0.028311</td>\n",
              "      <td>0.100310</td>\n",
              "      <td>0.095896</td>\n",
              "      <td>0.058560</td>\n",
              "      <td>0.192730</td>\n",
              "      <td>...</td>\n",
              "      <td>-0.237796</td>\n",
              "      <td>-0.110732</td>\n",
              "      <td>-0.019691</td>\n",
              "      <td>-0.055844</td>\n",
              "      <td>0.022150</td>\n",
              "      <td>0.013259</td>\n",
              "      <td>0.024029</td>\n",
              "      <td>-0.038288</td>\n",
              "      <td>-0.043128</td>\n",
              "      <td>0.042701</td>\n",
              "    </tr>\n",
              "    <tr>\n",
              "      <th>cap-shape_c</th>\n",
              "      <td>-0.127536</td>\n",
              "      <td>0.004347</td>\n",
              "      <td>-0.096462</td>\n",
              "      <td>1.000000</td>\n",
              "      <td>-0.093068</td>\n",
              "      <td>-0.042042</td>\n",
              "      <td>-0.036983</td>\n",
              "      <td>-0.063969</td>\n",
              "      <td>-0.155979</td>\n",
              "      <td>0.046478</td>\n",
              "      <td>...</td>\n",
              "      <td>0.031931</td>\n",
              "      <td>-0.004666</td>\n",
              "      <td>0.060713</td>\n",
              "      <td>-0.039317</td>\n",
              "      <td>0.103641</td>\n",
              "      <td>-0.007621</td>\n",
              "      <td>-0.013377</td>\n",
              "      <td>0.075351</td>\n",
              "      <td>0.022985</td>\n",
              "      <td>-0.053716</td>\n",
              "    </tr>\n",
              "    <tr>\n",
              "      <th>cap-shape_f</th>\n",
              "      <td>0.062686</td>\n",
              "      <td>-0.016018</td>\n",
              "      <td>0.014906</td>\n",
              "      <td>-0.093068</td>\n",
              "      <td>1.000000</td>\n",
              "      <td>-0.127425</td>\n",
              "      <td>-0.112092</td>\n",
              "      <td>-0.193881</td>\n",
              "      <td>-0.472755</td>\n",
              "      <td>-0.019173</td>\n",
              "      <td>...</td>\n",
              "      <td>-0.039960</td>\n",
              "      <td>-0.008281</td>\n",
              "      <td>0.078521</td>\n",
              "      <td>0.037757</td>\n",
              "      <td>0.006614</td>\n",
              "      <td>0.028023</td>\n",
              "      <td>0.052902</td>\n",
              "      <td>-0.057158</td>\n",
              "      <td>-0.031866</td>\n",
              "      <td>0.054676</td>\n",
              "    </tr>\n",
              "    <tr>\n",
              "      <th>...</th>\n",
              "      <td>...</td>\n",
              "      <td>...</td>\n",
              "      <td>...</td>\n",
              "      <td>...</td>\n",
              "      <td>...</td>\n",
              "      <td>...</td>\n",
              "      <td>...</td>\n",
              "      <td>...</td>\n",
              "      <td>...</td>\n",
              "      <td>...</td>\n",
              "      <td>...</td>\n",
              "      <td>...</td>\n",
              "      <td>...</td>\n",
              "      <td>...</td>\n",
              "      <td>...</td>\n",
              "      <td>...</td>\n",
              "      <td>...</td>\n",
              "      <td>...</td>\n",
              "      <td>...</td>\n",
              "      <td>...</td>\n",
              "      <td>...</td>\n",
              "    </tr>\n",
              "    <tr>\n",
              "      <th>habitat_u</th>\n",
              "      <td>0.040028</td>\n",
              "      <td>0.089491</td>\n",
              "      <td>0.013259</td>\n",
              "      <td>-0.007621</td>\n",
              "      <td>0.028023</td>\n",
              "      <td>-0.010434</td>\n",
              "      <td>0.101244</td>\n",
              "      <td>-0.015875</td>\n",
              "      <td>-0.038710</td>\n",
              "      <td>-0.009152</td>\n",
              "      <td>...</td>\n",
              "      <td>-0.016839</td>\n",
              "      <td>-0.008014</td>\n",
              "      <td>-0.010185</td>\n",
              "      <td>-0.009757</td>\n",
              "      <td>-0.003353</td>\n",
              "      <td>1.000000</td>\n",
              "      <td>-0.003320</td>\n",
              "      <td>0.040258</td>\n",
              "      <td>-0.014163</td>\n",
              "      <td>0.035253</td>\n",
              "    </tr>\n",
              "    <tr>\n",
              "      <th>habitat_w</th>\n",
              "      <td>0.014915</td>\n",
              "      <td>-0.051642</td>\n",
              "      <td>0.024029</td>\n",
              "      <td>-0.013377</td>\n",
              "      <td>0.052902</td>\n",
              "      <td>-0.018316</td>\n",
              "      <td>-0.016112</td>\n",
              "      <td>-0.027868</td>\n",
              "      <td>0.007817</td>\n",
              "      <td>-0.016067</td>\n",
              "      <td>...</td>\n",
              "      <td>-0.029559</td>\n",
              "      <td>-0.014068</td>\n",
              "      <td>-0.017880</td>\n",
              "      <td>-0.017129</td>\n",
              "      <td>-0.005886</td>\n",
              "      <td>-0.003320</td>\n",
              "      <td>1.000000</td>\n",
              "      <td>-0.016436</td>\n",
              "      <td>0.021711</td>\n",
              "      <td>-0.023402</td>\n",
              "    </tr>\n",
              "    <tr>\n",
              "      <th>season_s</th>\n",
              "      <td>-0.063786</td>\n",
              "      <td>-0.050049</td>\n",
              "      <td>-0.038288</td>\n",
              "      <td>0.075351</td>\n",
              "      <td>-0.057158</td>\n",
              "      <td>0.175496</td>\n",
              "      <td>0.084450</td>\n",
              "      <td>-0.078596</td>\n",
              "      <td>-0.084671</td>\n",
              "      <td>-0.022355</td>\n",
              "      <td>...</td>\n",
              "      <td>-0.006844</td>\n",
              "      <td>-0.019088</td>\n",
              "      <td>0.009935</td>\n",
              "      <td>0.041316</td>\n",
              "      <td>-0.016600</td>\n",
              "      <td>0.040258</td>\n",
              "      <td>-0.016436</td>\n",
              "      <td>1.000000</td>\n",
              "      <td>-0.166796</td>\n",
              "      <td>-0.065999</td>\n",
              "    </tr>\n",
              "    <tr>\n",
              "      <th>season_u</th>\n",
              "      <td>-0.033738</td>\n",
              "      <td>0.003156</td>\n",
              "      <td>-0.043128</td>\n",
              "      <td>0.022985</td>\n",
              "      <td>-0.031866</td>\n",
              "      <td>0.000790</td>\n",
              "      <td>-0.013997</td>\n",
              "      <td>0.031159</td>\n",
              "      <td>-0.010528</td>\n",
              "      <td>-0.066983</td>\n",
              "      <td>...</td>\n",
              "      <td>0.048318</td>\n",
              "      <td>0.013220</td>\n",
              "      <td>-0.040802</td>\n",
              "      <td>0.006319</td>\n",
              "      <td>0.013703</td>\n",
              "      <td>-0.014163</td>\n",
              "      <td>0.021711</td>\n",
              "      <td>-0.166796</td>\n",
              "      <td>1.000000</td>\n",
              "      <td>-0.237477</td>\n",
              "    </tr>\n",
              "    <tr>\n",
              "      <th>season_w</th>\n",
              "      <td>0.069982</td>\n",
              "      <td>-0.034120</td>\n",
              "      <td>0.042701</td>\n",
              "      <td>-0.053716</td>\n",
              "      <td>0.054676</td>\n",
              "      <td>0.038001</td>\n",
              "      <td>-0.020919</td>\n",
              "      <td>-0.026978</td>\n",
              "      <td>-0.001573</td>\n",
              "      <td>0.012512</td>\n",
              "      <td>...</td>\n",
              "      <td>-0.029099</td>\n",
              "      <td>-0.056490</td>\n",
              "      <td>0.060651</td>\n",
              "      <td>-0.012837</td>\n",
              "      <td>-0.023634</td>\n",
              "      <td>0.035253</td>\n",
              "      <td>-0.023402</td>\n",
              "      <td>-0.065999</td>\n",
              "      <td>-0.237477</td>\n",
              "      <td>1.000000</td>\n",
              "    </tr>\n",
              "  </tbody>\n",
              "</table>\n",
              "<p>92 rows × 92 columns</p>\n",
              "</div>\n",
              "    <div class=\"colab-df-buttons\">\n",
              "\n",
              "  <div class=\"colab-df-container\">\n",
              "    <button class=\"colab-df-convert\" onclick=\"convertToInteractive('df-99397602-4183-4019-a082-a06f20f1179e')\"\n",
              "            title=\"Convert this dataframe to an interactive table.\"\n",
              "            style=\"display:none;\">\n",
              "\n",
              "  <svg xmlns=\"http://www.w3.org/2000/svg\" height=\"24px\" viewBox=\"0 -960 960 960\">\n",
              "    <path d=\"M120-120v-720h720v720H120Zm60-500h600v-160H180v160Zm220 220h160v-160H400v160Zm0 220h160v-160H400v160ZM180-400h160v-160H180v160Zm440 0h160v-160H620v160ZM180-180h160v-160H180v160Zm440 0h160v-160H620v160Z\"/>\n",
              "  </svg>\n",
              "    </button>\n",
              "\n",
              "  <style>\n",
              "    .colab-df-container {\n",
              "      display:flex;\n",
              "      gap: 12px;\n",
              "    }\n",
              "\n",
              "    .colab-df-convert {\n",
              "      background-color: #E8F0FE;\n",
              "      border: none;\n",
              "      border-radius: 50%;\n",
              "      cursor: pointer;\n",
              "      display: none;\n",
              "      fill: #1967D2;\n",
              "      height: 32px;\n",
              "      padding: 0 0 0 0;\n",
              "      width: 32px;\n",
              "    }\n",
              "\n",
              "    .colab-df-convert:hover {\n",
              "      background-color: #E2EBFA;\n",
              "      box-shadow: 0px 1px 2px rgba(60, 64, 67, 0.3), 0px 1px 3px 1px rgba(60, 64, 67, 0.15);\n",
              "      fill: #174EA6;\n",
              "    }\n",
              "\n",
              "    .colab-df-buttons div {\n",
              "      margin-bottom: 4px;\n",
              "    }\n",
              "\n",
              "    [theme=dark] .colab-df-convert {\n",
              "      background-color: #3B4455;\n",
              "      fill: #D2E3FC;\n",
              "    }\n",
              "\n",
              "    [theme=dark] .colab-df-convert:hover {\n",
              "      background-color: #434B5C;\n",
              "      box-shadow: 0px 1px 3px 1px rgba(0, 0, 0, 0.15);\n",
              "      filter: drop-shadow(0px 1px 2px rgba(0, 0, 0, 0.3));\n",
              "      fill: #FFFFFF;\n",
              "    }\n",
              "  </style>\n",
              "\n",
              "    <script>\n",
              "      const buttonEl =\n",
              "        document.querySelector('#df-99397602-4183-4019-a082-a06f20f1179e button.colab-df-convert');\n",
              "      buttonEl.style.display =\n",
              "        google.colab.kernel.accessAllowed ? 'block' : 'none';\n",
              "\n",
              "      async function convertToInteractive(key) {\n",
              "        const element = document.querySelector('#df-99397602-4183-4019-a082-a06f20f1179e');\n",
              "        const dataTable =\n",
              "          await google.colab.kernel.invokeFunction('convertToInteractive',\n",
              "                                                    [key], {});\n",
              "        if (!dataTable) return;\n",
              "\n",
              "        const docLinkHtml = 'Like what you see? Visit the ' +\n",
              "          '<a target=\"_blank\" href=https://colab.research.google.com/notebooks/data_table.ipynb>data table notebook</a>'\n",
              "          + ' to learn more about interactive tables.';\n",
              "        element.innerHTML = '';\n",
              "        dataTable['output_type'] = 'display_data';\n",
              "        await google.colab.output.renderOutput(dataTable, element);\n",
              "        const docLink = document.createElement('div');\n",
              "        docLink.innerHTML = docLinkHtml;\n",
              "        element.appendChild(docLink);\n",
              "      }\n",
              "    </script>\n",
              "  </div>\n",
              "\n",
              "\n",
              "    <div id=\"df-317b500d-e490-4b43-8856-17d0053328e4\">\n",
              "      <button class=\"colab-df-quickchart\" onclick=\"quickchart('df-317b500d-e490-4b43-8856-17d0053328e4')\"\n",
              "                title=\"Suggest charts\"\n",
              "                style=\"display:none;\">\n",
              "\n",
              "<svg xmlns=\"http://www.w3.org/2000/svg\" height=\"24px\"viewBox=\"0 0 24 24\"\n",
              "     width=\"24px\">\n",
              "    <g>\n",
              "        <path d=\"M19 3H5c-1.1 0-2 .9-2 2v14c0 1.1.9 2 2 2h14c1.1 0 2-.9 2-2V5c0-1.1-.9-2-2-2zM9 17H7v-7h2v7zm4 0h-2V7h2v10zm4 0h-2v-4h2v4z\"/>\n",
              "    </g>\n",
              "</svg>\n",
              "      </button>\n",
              "\n",
              "<style>\n",
              "  .colab-df-quickchart {\n",
              "      --bg-color: #E8F0FE;\n",
              "      --fill-color: #1967D2;\n",
              "      --hover-bg-color: #E2EBFA;\n",
              "      --hover-fill-color: #174EA6;\n",
              "      --disabled-fill-color: #AAA;\n",
              "      --disabled-bg-color: #DDD;\n",
              "  }\n",
              "\n",
              "  [theme=dark] .colab-df-quickchart {\n",
              "      --bg-color: #3B4455;\n",
              "      --fill-color: #D2E3FC;\n",
              "      --hover-bg-color: #434B5C;\n",
              "      --hover-fill-color: #FFFFFF;\n",
              "      --disabled-bg-color: #3B4455;\n",
              "      --disabled-fill-color: #666;\n",
              "  }\n",
              "\n",
              "  .colab-df-quickchart {\n",
              "    background-color: var(--bg-color);\n",
              "    border: none;\n",
              "    border-radius: 50%;\n",
              "    cursor: pointer;\n",
              "    display: none;\n",
              "    fill: var(--fill-color);\n",
              "    height: 32px;\n",
              "    padding: 0;\n",
              "    width: 32px;\n",
              "  }\n",
              "\n",
              "  .colab-df-quickchart:hover {\n",
              "    background-color: var(--hover-bg-color);\n",
              "    box-shadow: 0 1px 2px rgba(60, 64, 67, 0.3), 0 1px 3px 1px rgba(60, 64, 67, 0.15);\n",
              "    fill: var(--button-hover-fill-color);\n",
              "  }\n",
              "\n",
              "  .colab-df-quickchart-complete:disabled,\n",
              "  .colab-df-quickchart-complete:disabled:hover {\n",
              "    background-color: var(--disabled-bg-color);\n",
              "    fill: var(--disabled-fill-color);\n",
              "    box-shadow: none;\n",
              "  }\n",
              "\n",
              "  .colab-df-spinner {\n",
              "    border: 2px solid var(--fill-color);\n",
              "    border-color: transparent;\n",
              "    border-bottom-color: var(--fill-color);\n",
              "    animation:\n",
              "      spin 1s steps(1) infinite;\n",
              "  }\n",
              "\n",
              "  @keyframes spin {\n",
              "    0% {\n",
              "      border-color: transparent;\n",
              "      border-bottom-color: var(--fill-color);\n",
              "      border-left-color: var(--fill-color);\n",
              "    }\n",
              "    20% {\n",
              "      border-color: transparent;\n",
              "      border-left-color: var(--fill-color);\n",
              "      border-top-color: var(--fill-color);\n",
              "    }\n",
              "    30% {\n",
              "      border-color: transparent;\n",
              "      border-left-color: var(--fill-color);\n",
              "      border-top-color: var(--fill-color);\n",
              "      border-right-color: var(--fill-color);\n",
              "    }\n",
              "    40% {\n",
              "      border-color: transparent;\n",
              "      border-right-color: var(--fill-color);\n",
              "      border-top-color: var(--fill-color);\n",
              "    }\n",
              "    60% {\n",
              "      border-color: transparent;\n",
              "      border-right-color: var(--fill-color);\n",
              "    }\n",
              "    80% {\n",
              "      border-color: transparent;\n",
              "      border-right-color: var(--fill-color);\n",
              "      border-bottom-color: var(--fill-color);\n",
              "    }\n",
              "    90% {\n",
              "      border-color: transparent;\n",
              "      border-bottom-color: var(--fill-color);\n",
              "    }\n",
              "  }\n",
              "</style>\n",
              "\n",
              "      <script>\n",
              "        async function quickchart(key) {\n",
              "          const quickchartButtonEl =\n",
              "            document.querySelector('#' + key + ' button');\n",
              "          quickchartButtonEl.disabled = true;  // To prevent multiple clicks.\n",
              "          quickchartButtonEl.classList.add('colab-df-spinner');\n",
              "          try {\n",
              "            const charts = await google.colab.kernel.invokeFunction(\n",
              "                'suggestCharts', [key], {});\n",
              "          } catch (error) {\n",
              "            console.error('Error during call to suggestCharts:', error);\n",
              "          }\n",
              "          quickchartButtonEl.classList.remove('colab-df-spinner');\n",
              "          quickchartButtonEl.classList.add('colab-df-quickchart-complete');\n",
              "        }\n",
              "        (() => {\n",
              "          let quickchartButtonEl =\n",
              "            document.querySelector('#df-317b500d-e490-4b43-8856-17d0053328e4 button');\n",
              "          quickchartButtonEl.style.display =\n",
              "            google.colab.kernel.accessAllowed ? 'block' : 'none';\n",
              "        })();\n",
              "      </script>\n",
              "    </div>\n",
              "\n",
              "  <div id=\"id_272e0e1e-4c24-4a8a-80e7-44337585d6d7\">\n",
              "    <style>\n",
              "      .colab-df-generate {\n",
              "        background-color: #E8F0FE;\n",
              "        border: none;\n",
              "        border-radius: 50%;\n",
              "        cursor: pointer;\n",
              "        display: none;\n",
              "        fill: #1967D2;\n",
              "        height: 32px;\n",
              "        padding: 0 0 0 0;\n",
              "        width: 32px;\n",
              "      }\n",
              "\n",
              "      .colab-df-generate:hover {\n",
              "        background-color: #E2EBFA;\n",
              "        box-shadow: 0px 1px 2px rgba(60, 64, 67, 0.3), 0px 1px 3px 1px rgba(60, 64, 67, 0.15);\n",
              "        fill: #174EA6;\n",
              "      }\n",
              "\n",
              "      [theme=dark] .colab-df-generate {\n",
              "        background-color: #3B4455;\n",
              "        fill: #D2E3FC;\n",
              "      }\n",
              "\n",
              "      [theme=dark] .colab-df-generate:hover {\n",
              "        background-color: #434B5C;\n",
              "        box-shadow: 0px 1px 3px 1px rgba(0, 0, 0, 0.15);\n",
              "        filter: drop-shadow(0px 1px 2px rgba(0, 0, 0, 0.3));\n",
              "        fill: #FFFFFF;\n",
              "      }\n",
              "    </style>\n",
              "    <button class=\"colab-df-generate\" onclick=\"generateWithVariable('cor')\"\n",
              "            title=\"Generate code using this dataframe.\"\n",
              "            style=\"display:none;\">\n",
              "\n",
              "  <svg xmlns=\"http://www.w3.org/2000/svg\" height=\"24px\"viewBox=\"0 0 24 24\"\n",
              "       width=\"24px\">\n",
              "    <path d=\"M7,19H8.4L18.45,9,17,7.55,7,17.6ZM5,21V16.75L18.45,3.32a2,2,0,0,1,2.83,0l1.4,1.43a1.91,1.91,0,0,1,.58,1.4,1.91,1.91,0,0,1-.58,1.4L9.25,21ZM18.45,9,17,7.55Zm-12,3A5.31,5.31,0,0,0,4.9,8.1,5.31,5.31,0,0,0,1,6.5,5.31,5.31,0,0,0,4.9,4.9,5.31,5.31,0,0,0,6.5,1,5.31,5.31,0,0,0,8.1,4.9,5.31,5.31,0,0,0,12,6.5,5.46,5.46,0,0,0,6.5,12Z\"/>\n",
              "  </svg>\n",
              "    </button>\n",
              "    <script>\n",
              "      (() => {\n",
              "      const buttonEl =\n",
              "        document.querySelector('#id_272e0e1e-4c24-4a8a-80e7-44337585d6d7 button.colab-df-generate');\n",
              "      buttonEl.style.display =\n",
              "        google.colab.kernel.accessAllowed ? 'block' : 'none';\n",
              "\n",
              "      buttonEl.onclick = () => {\n",
              "        google.colab.notebook.generateWithVariable('cor');\n",
              "      }\n",
              "      })();\n",
              "    </script>\n",
              "  </div>\n",
              "\n",
              "    </div>\n",
              "  </div>\n"
            ],
            "application/vnd.google.colaboratory.intrinsic+json": {
              "type": "dataframe",
              "variable_name": "cor"
            }
          },
          "metadata": {},
          "execution_count": 31
        }
      ]
    },
    {
      "cell_type": "code",
      "source": [
        "plt.figure(figsize=(12, 10))\n",
        "sns.heatmap(cor, annot=False, cmap='coolwarm', fmt=\".2f\")# since the heatmap is big, annotation makes it complex\n",
        "plt.show()"
      ],
      "metadata": {
        "colab": {
          "base_uri": "https://localhost:8080/",
          "height": 955
        },
        "id": "BuSezyg12AsF",
        "outputId": "43dafc76-f9d7-4419-c52b-409ac657c667"
      },
      "execution_count": 32,
      "outputs": [
        {
          "output_type": "display_data",
          "data": {
            "text/plain": [
              "<Figure size 1200x1000 with 2 Axes>"
            ],
            "image/png": "[encoded data removed]"
          },
          "metadata": {}
        }
      ]
    },
    {
      "cell_type": "markdown",
      "source": [
        "# **Step 10: Feature selection**\n",
        "To find which columns (features) are most useful for predicting the target."
      ],
      "metadata": {
        "id": "9ciRcYTK-7pI"
      }
    },
    {
      "cell_type": "code",
      "source": [
        "#introducing random forest classifier for feature selection\n",
        "model = RandomForestClassifier(random_state=42)\n",
        "model.fit(X_encoded, y_encoded)\n",
        "\n",
        "#finding the importance of each feature\n",
        "importances = pd.Series(model.feature_importances_, index=X_encoded.columns)\n",
        "\n",
        "#sorting and printing the features\n",
        "importances = importances.sort_values(ascending=False)\n",
        "print(importances)\n",
        "\n",
        "#Higher score = more important feature."
      ],
      "metadata": {
        "colab": {
          "base_uri": "https://localhost:8080/"
        },
        "id": "QUy3Va5l_tmN",
        "outputId": "15087673-0765-4755-fb67-08f5f313d687"
      },
      "execution_count": 33,
      "outputs": [
        {
          "output_type": "stream",
          "name": "stderr",
          "text": [
            "/usr/local/lib/python3.11/dist-packages/sklearn/base.py:1389: DataConversionWarning: A column-vector y was passed when a 1d array was expected. Please change the shape of y to (n_samples,), for example using ravel().\n",
            "  return fit_method(estimator, *args, **kwargs)\n"
          ]
        },
        {
          "output_type": "stream",
          "name": "stdout",
          "text": [
            "stem-width        0.092310\n",
            "cap-diameter      0.063262\n",
            "stem-height       0.060597\n",
            "stem-color_w      0.035482\n",
            "gill-spacing_d    0.030738\n",
            "                    ...   \n",
            "stem-color_k      0.001180\n",
            "habitat_w         0.001179\n",
            "stem-color_l      0.000670\n",
            "habitat_p         0.000380\n",
            "habitat_u         0.000273\n",
            "Length: 92, dtype: float64\n"
          ]
        }
      ]
    },
    {
      "cell_type": "code",
      "source": [
        "top_features = importances.head(20)\n",
        "\n",
        "plt.figure(figsize=(10,6))\n",
        "top_features.plot( kind='barh',color='lightgreen')\n",
        "plt.gca().invert_yaxis()\n",
        "plt.xlabel('Feature Importance')\n",
        "plt.title('Top 20 Features - Random Forest')\n",
        "plt.show()"
      ],
      "metadata": {
        "colab": {
          "base_uri": "https://localhost:8080/",
          "height": 564
        },
        "id": "v_X6OVcMAlTQ",
        "outputId": "6f9ca5c3-c299-4d18-85f3-463c3026212e"
      },
      "execution_count": 34,
      "outputs": [
        {
          "output_type": "display_data",
          "data": {
            "text/plain": [
              "<Figure size 1000x600 with 1 Axes>"
            ],
            "image/png": "[encoded data removed]"
          },
          "metadata": {}
        }
      ]
    },
    {
      "cell_type": "code",
      "source": [
        "# making the dataframe with the top 15 features\n",
        "selected_features = importances.head(15).index.tolist()\n",
        "print(selected_features)\n",
        "X_selected = X_encoded[selected_features]\n",
        "#check\n",
        "print(X_selected.shape)\n",
        "#print(X_selected.head)"
      ],
      "metadata": {
        "colab": {
          "base_uri": "https://localhost:8080/"
        },
        "id": "OgvPJwcUCyaS",
        "outputId": "cf3a8cc0-088d-4832-92ed-be86ca3cd9a7"
      },
      "execution_count": 35,
      "outputs": [
        {
          "output_type": "stream",
          "name": "stdout",
          "text": [
            "['stem-width', 'cap-diameter', 'stem-height', 'stem-color_w', 'gill-spacing_d', 'gill-spacing_unknown', 'stem-surface_unknown', 'does-bruise-or-bleed_t', 'gill-attachment_p', 'gill-color_w', 'gill-attachment_x', 'cap-surface_unknown', 'gill-attachment_unknown', 'has-ring_t', 'gill-attachment_d']\n",
            "(60923, 15)\n"
          ]
        }
      ]
    },
    {
      "cell_type": "markdown",
      "source": [
        "# **Step 11: Feature scaling**\n",
        "To make all features have a similar range of values."
      ],
      "metadata": {
        "id": "Zcpdp6KlKx8y"
      }
    },
    {
      "cell_type": "code",
      "source": [
        "# Initializing scaler\n",
        "scaler = StandardScaler()\n",
        "\n",
        "num_cols = X_selected.select_dtypes(include= 'number').columns\n",
        "\n",
        "\n",
        "# Fit and transform only on numerical columns\n",
        "X_scaled = scaler.fit_transform(X_selected)"
      ],
      "metadata": {
        "id": "AQJrwnFGLrdL"
      },
      "execution_count": 36,
      "outputs": []
    },
    {
      "cell_type": "markdown",
      "source": [
        "# **Step 12: Splitting the dataset**\n",
        "Splitting the dataset for training and testing"
      ],
      "metadata": {
        "id": "INKVhwsirtAw"
      }
    },
    {
      "cell_type": "code",
      "source": [
        "X_train,X_test,y_train,y_test= train_test_split(X_scaled,y_encoded,test_size=0.2,random_state=42, stratify=y)\n",
        "# stratify= y ensures the data is split in a balanced way"
      ],
      "metadata": {
        "id": "OJeyR-ozrsLR"
      },
      "execution_count": 37,
      "outputs": []
    },
    {
      "cell_type": "markdown",
      "source": [
        "# **Step 13: Model selection**\n",
        "Selecting the best model based on accuracy"
      ],
      "metadata": {
        "id": "7UFhJ5fAG9eq"
      }
    },
    {
      "cell_type": "code",
      "source": [
        "models= {\n",
        "    \"logistic regression\":LogisticRegression(),\n",
        "    \"random forest classifier\":RandomForestClassifier(),\n",
        "    \"gradient boosting classifier\":GradientBoostingClassifier(),\n",
        "    \"decision tree classifier\":DecisionTreeClassifier(),\n",
        "    \"SVM\":SVC()\n",
        "}"
      ],
      "metadata": {
        "id": "gTTCKXMsG9EE"
      },
      "execution_count": 38,
      "outputs": []
    },
    {
      "cell_type": "code",
      "source": [
        "results ={}\n",
        "\n",
        "for model_name,model in models.items():\n",
        "  model.fit(X_train,y_train)\n",
        "\n",
        "  y_pred = model.predict(X_test)\n",
        "\n",
        "  accuracy = accuracy_score(y_test,y_pred)\n",
        "\n",
        "  cm=confusion_matrix(y_test,y_pred)\n",
        "\n",
        "  cr=classification_report(y_test,y_pred)\n",
        "\n",
        "  results[model_name] = {\n",
        "      \"Accuracy\":accuracy,\n",
        "      \"confusion matrix\":cm,\n",
        "      \"classification report\":cr\n",
        "  }"
      ],
      "metadata": {
        "colab": {
          "base_uri": "https://localhost:8080/"
        },
        "id": "q1ddVnYaHBob",
        "outputId": "cd09d9e8-43ac-4dd9-a8b0-8fe69749a299"
      },
      "execution_count": 39,
      "outputs": [
        {
          "output_type": "stream",
          "name": "stderr",
          "text": [
            "/usr/local/lib/python3.11/dist-packages/sklearn/utils/validation.py:1408: DataConversionWarning: A column-vector y was passed when a 1d array was expected. Please change the shape of y to (n_samples, ), for example using ravel().\n",
            "  y = column_or_1d(y, warn=True)\n",
            "/usr/local/lib/python3.11/dist-packages/sklearn/base.py:1389: DataConversionWarning: A column-vector y was passed when a 1d array was expected. Please change the shape of y to (n_samples,), for example using ravel().\n",
            "  return fit_method(estimator, *args, **kwargs)\n",
            "/usr/local/lib/python3.11/dist-packages/sklearn/preprocessing/_label.py:110: DataConversionWarning: A column-vector y was passed when a 1d array was expected. Please change the shape of y to (n_samples, ), for example using ravel().\n",
            "  y = column_or_1d(y, warn=True)\n",
            "/usr/local/lib/python3.11/dist-packages/sklearn/utils/validation.py:1408: DataConversionWarning: A column-vector y was passed when a 1d array was expected. Please change the shape of y to (n_samples, ), for example using ravel().\n",
            "  y = column_or_1d(y, warn=True)\n"
          ]
        }
      ]
    },
    {
      "cell_type": "code",
      "source": [
        "# Sorting models by accuracy in descending order\n",
        "sorted_results = sorted(results.items(), key=lambda x: x[1]['Accuracy'], reverse=True)\n",
        "\n",
        "# Assigning the best model\n",
        "best_model_name = sorted_results[0][0]\n",
        "best_model_metrics = sorted_results[0][1]\n",
        "\n",
        "# Print sorted results\n",
        "for model_name, matrix in sorted_results:\n",
        "    print(f\"\\n{model_name} Results:\")\n",
        "    print(f\"Accuracy: {matrix['Accuracy']:.4f}\")\n",
        "    print(f\"\\nConfusion Matrix:\\n{matrix['confusion matrix']}\")\n",
        "    print(f\"\\nClassification Report:\\n{matrix['classification report']}\")\n",
        "\n",
        "print(f\"\\n Best Model: {best_model_name} with Accuracy: {best_model_metrics['Accuracy']:.4f}\")\n"
      ],
      "metadata": {
        "colab": {
          "base_uri": "https://localhost:8080/"
        },
        "id": "0vbEOy7CHdww",
        "outputId": "51820814-840a-4206-c36a-75d0558aae50"
      },
      "execution_count": 40,
      "outputs": [
        {
          "output_type": "stream",
          "name": "stdout",
          "text": [
            "\n",
            "random forest classifier Results:\n",
            "Accuracy: 0.9949\n",
            "\n",
            "Confusion Matrix:\n",
            "[[5407   29]\n",
            " [  33 6716]]\n",
            "\n",
            "Classification Report:\n",
            "              precision    recall  f1-score   support\n",
            "\n",
            "           0       0.99      0.99      0.99      5436\n",
            "           1       1.00      1.00      1.00      6749\n",
            "\n",
            "    accuracy                           0.99     12185\n",
            "   macro avg       0.99      0.99      0.99     12185\n",
            "weighted avg       0.99      0.99      0.99     12185\n",
            "\n",
            "\n",
            "decision tree classifier Results:\n",
            "Accuracy: 0.9908\n",
            "\n",
            "Confusion Matrix:\n",
            "[[5383   53]\n",
            " [  59 6690]]\n",
            "\n",
            "Classification Report:\n",
            "              precision    recall  f1-score   support\n",
            "\n",
            "           0       0.99      0.99      0.99      5436\n",
            "           1       0.99      0.99      0.99      6749\n",
            "\n",
            "    accuracy                           0.99     12185\n",
            "   macro avg       0.99      0.99      0.99     12185\n",
            "weighted avg       0.99      0.99      0.99     12185\n",
            "\n",
            "\n",
            "SVM Results:\n",
            "Accuracy: 0.9826\n",
            "\n",
            "Confusion Matrix:\n",
            "[[5336  100]\n",
            " [ 112 6637]]\n",
            "\n",
            "Classification Report:\n",
            "              precision    recall  f1-score   support\n",
            "\n",
            "           0       0.98      0.98      0.98      5436\n",
            "           1       0.99      0.98      0.98      6749\n",
            "\n",
            "    accuracy                           0.98     12185\n",
            "   macro avg       0.98      0.98      0.98     12185\n",
            "weighted avg       0.98      0.98      0.98     12185\n",
            "\n",
            "\n",
            "gradient boosting classifier Results:\n",
            "Accuracy: 0.8990\n",
            "\n",
            "Confusion Matrix:\n",
            "[[4639  797]\n",
            " [ 434 6315]]\n",
            "\n",
            "Classification Report:\n",
            "              precision    recall  f1-score   support\n",
            "\n",
            "           0       0.91      0.85      0.88      5436\n",
            "           1       0.89      0.94      0.91      6749\n",
            "\n",
            "    accuracy                           0.90     12185\n",
            "   macro avg       0.90      0.89      0.90     12185\n",
            "weighted avg       0.90      0.90      0.90     12185\n",
            "\n",
            "\n",
            "logistic regression Results:\n",
            "Accuracy: 0.6835\n",
            "\n",
            "Confusion Matrix:\n",
            "[[3121 2315]\n",
            " [1542 5207]]\n",
            "\n",
            "Classification Report:\n",
            "              precision    recall  f1-score   support\n",
            "\n",
            "           0       0.67      0.57      0.62      5436\n",
            "           1       0.69      0.77      0.73      6749\n",
            "\n",
            "    accuracy                           0.68     12185\n",
            "   macro avg       0.68      0.67      0.67     12185\n",
            "weighted avg       0.68      0.68      0.68     12185\n",
            "\n",
            "\n",
            " Best Model: random forest classifier with Accuracy: 0.9949\n"
          ]
        }
      ]
    },
    {
      "cell_type": "markdown",
      "source": [
        "# **Step 14: Pipeline creation**\n",
        "Sequential series of data processing and modeling steps that are bundled together to automate and streamline the workflow"
      ],
      "metadata": {
        "id": "6agjHH-PN4Pj"
      }
    },
    {
      "cell_type": "code",
      "source": [
        "pipeline = Pipeline([\n",
        "    ('imputer',SimpleImputer(strategy='mean')),\n",
        "    ('scaler',StandardScaler()),\n",
        "    ('model',RandomForestClassifier())\n",
        "])"
      ],
      "metadata": {
        "id": "lZ5rj8D78j5A"
      },
      "execution_count": 41,
      "outputs": []
    },
    {
      "cell_type": "code",
      "source": [
        "pipeline.fit(X_train,y_train)"
      ],
      "metadata": {
        "colab": {
          "base_uri": "https://localhost:8080/",
          "height": 250
        },
        "id": "L2j8WnlHArk2",
        "outputId": "ecb4328c-8f0c-45bb-f75e-1816498faf15"
      },
      "execution_count": 42,
      "outputs": [
        {
          "output_type": "stream",
          "name": "stderr",
          "text": [
            "/usr/local/lib/python3.11/dist-packages/sklearn/base.py:1389: DataConversionWarning: A column-vector y was passed when a 1d array was expected. Please change the shape of y to (n_samples,), for example using ravel().\n",
            "  return fit_method(estimator, *args, **kwargs)\n"
          ]
        },
        {
          "output_type": "execute_result",
          "data": {
            "text/plain": [
              "Pipeline(steps=[('imputer', SimpleImputer()), ('scaler', StandardScaler()),\n",
              "                ('model', RandomForestClassifier())])"
            ],
            "text/html": [
              "<style>#sk-container-id-1 {\n",
              "  /* Definition of color scheme common for light and dark mode */\n",
              "  --sklearn-color-text: #000;\n",
              "  --sklearn-color-text-muted: #666;\n",
              "  --sklearn-color-line: gray;\n",
              "  /* Definition of color scheme for unfitted estimators */\n",
              "  --sklearn-color-unfitted-level-0: #fff5e6;\n",
              "  --sklearn-color-unfitted-level-1: #f6e4d2;\n",
              "  --sklearn-color-unfitted-level-2: #ffe0b3;\n",
              "  --sklearn-color-unfitted-level-3: chocolate;\n",
              "  /* Definition of color scheme for fitted estimators */\n",
              "  --sklearn-color-fitted-level-0: #f0f8ff;\n",
              "  --sklearn-color-fitted-level-1: #d4ebff;\n",
              "  --sklearn-color-fitted-level-2: #b3dbfd;\n",
              "  --sklearn-color-fitted-level-3: cornflowerblue;\n",
              "\n",
              "  /* Specific color for light theme */\n",
              "  --sklearn-color-text-on-default-background: var(--sg-text-color, var(--theme-code-foreground, var(--jp-content-font-color1, black)));\n",
              "  --sklearn-color-background: var(--sg-background-color, var(--theme-background, var(--jp-layout-color0, white)));\n",
              "  --sklearn-color-border-box: var(--sg-text-color, var(--theme-code-foreground, var(--jp-content-font-color1, black)));\n",
              "  --sklearn-color-icon: #696969;\n",
              "\n",
              "  @media (prefers-color-scheme: dark) {\n",
              "    /* Redefinition of color scheme for dark theme */\n",
              "    --sklearn-color-text-on-default-background: var(--sg-text-color, var(--theme-code-foreground, var(--jp-content-font-color1, white)));\n",
              "    --sklearn-color-background: var(--sg-background-color, var(--theme-background, var(--jp-layout-color0, #111)));\n",
              "    --sklearn-color-border-box: var(--sg-text-color, var(--theme-code-foreground, var(--jp-content-font-color1, white)));\n",
              "    --sklearn-color-icon: #878787;\n",
              "  }\n",
              "}\n",
              "\n",
              "#sk-container-id-1 {\n",
              "  color: var(--sklearn-color-text);\n",
              "}\n",
              "\n",
              "#sk-container-id-1 pre {\n",
              "  padding: 0;\n",
              "}\n",
              "\n",
              "#sk-container-id-1 input.sk-hidden--visually {\n",
              "  border: 0;\n",
              "  clip: rect(1px 1px 1px 1px);\n",
              "  clip: rect(1px, 1px, 1px, 1px);\n",
              "  height: 1px;\n",
              "  margin: -1px;\n",
              "  overflow: hidden;\n",
              "  padding: 0;\n",
              "  position: absolute;\n",
              "  width: 1px;\n",
              "}\n",
              "\n",
              "#sk-container-id-1 div.sk-dashed-wrapped {\n",
              "  border: 1px dashed var(--sklearn-color-line);\n",
              "  margin: 0 0.4em 0.5em 0.4em;\n",
              "  box-sizing: border-box;\n",
              "  padding-bottom: 0.4em;\n",
              "  background-color: var(--sklearn-color-background);\n",
              "}\n",
              "\n",
              "#sk-container-id-1 div.sk-container {\n",
              "  /* jupyter's `normalize.less` sets `[hidden] { display: none; }`\n",
              "     but bootstrap.min.css set `[hidden] { display: none !important; }`\n",
              "     so we also need the `!important` here to be able to override the\n",
              "     default hidden behavior on the sphinx rendered scikit-learn.org.\n",
              "     See: https://github.com/scikit-learn/scikit-learn/issues/21755 */\n",
              "  display: inline-block !important;\n",
              "  position: relative;\n",
              "}\n",
              "\n",
              "#sk-container-id-1 div.sk-text-repr-fallback {\n",
              "  display: none;\n",
              "}\n",
              "\n",
              "div.sk-parallel-item,\n",
              "div.sk-serial,\n",
              "div.sk-item {\n",
              "  /* draw centered vertical line to link estimators */\n",
              "  background-image: linear-gradient(var(--sklearn-color-text-on-default-background), var(--sklearn-color-text-on-default-background));\n",
              "  background-size: 2px 100%;\n",
              "  background-repeat: no-repeat;\n",
              "  background-position: center center;\n",
              "}\n",
              "\n",
              "/* Parallel-specific style estimator block */\n",
              "\n",
              "#sk-container-id-1 div.sk-parallel-item::after {\n",
              "  content: \"\";\n",
              "  width: 100%;\n",
              "  border-bottom: 2px solid var(--sklearn-color-text-on-default-background);\n",
              "  flex-grow: 1;\n",
              "}\n",
              "\n",
              "#sk-container-id-1 div.sk-parallel {\n",
              "  display: flex;\n",
              "  align-items: stretch;\n",
              "  justify-content: center;\n",
              "  background-color: var(--sklearn-color-background);\n",
              "  position: relative;\n",
              "}\n",
              "\n",
              "#sk-container-id-1 div.sk-parallel-item {\n",
              "  display: flex;\n",
              "  flex-direction: column;\n",
              "}\n",
              "\n",
              "#sk-container-id-1 div.sk-parallel-item:first-child::after {\n",
              "  align-self: flex-end;\n",
              "  width: 50%;\n",
              "}\n",
              "\n",
              "#sk-container-id-1 div.sk-parallel-item:last-child::after {\n",
              "  align-self: flex-start;\n",
              "  width: 50%;\n",
              "}\n",
              "\n",
              "#sk-container-id-1 div.sk-parallel-item:only-child::after {\n",
              "  width: 0;\n",
              "}\n",
              "\n",
              "/* Serial-specific style estimator block */\n",
              "\n",
              "#sk-container-id-1 div.sk-serial {\n",
              "  display: flex;\n",
              "  flex-direction: column;\n",
              "  align-items: center;\n",
              "  background-color: var(--sklearn-color-background);\n",
              "  padding-right: 1em;\n",
              "  padding-left: 1em;\n",
              "}\n",
              "\n",
              "\n",
              "/* Toggleable style: style used for estimator/Pipeline/ColumnTransformer box that is\n",
              "clickable and can be expanded/collapsed.\n",
              "- Pipeline and ColumnTransformer use this feature and define the default style\n",
              "- Estimators will overwrite some part of the style using the `sk-estimator` class\n",
              "*/\n",
              "\n",
              "/* Pipeline and ColumnTransformer style (default) */\n",
              "\n",
              "#sk-container-id-1 div.sk-toggleable {\n",
              "  /* Default theme specific background. It is overwritten whether we have a\n",
              "  specific estimator or a Pipeline/ColumnTransformer */\n",
              "  background-color: var(--sklearn-color-background);\n",
              "}\n",
              "\n",
              "/* Toggleable label */\n",
              "#sk-container-id-1 label.sk-toggleable__label {\n",
              "  cursor: pointer;\n",
              "  display: flex;\n",
              "  width: 100%;\n",
              "  margin-bottom: 0;\n",
              "  padding: 0.5em;\n",
              "  box-sizing: border-box;\n",
              "  text-align: center;\n",
              "  align-items: start;\n",
              "  justify-content: space-between;\n",
              "  gap: 0.5em;\n",
              "}\n",
              "\n",
              "#sk-container-id-1 label.sk-toggleable__label .caption {\n",
              "  font-size: 0.6rem;\n",
              "  font-weight: lighter;\n",
              "  color: var(--sklearn-color-text-muted);\n",
              "}\n",
              "\n",
              "#sk-container-id-1 label.sk-toggleable__label-arrow:before {\n",
              "  /* Arrow on the left of the label */\n",
              "  content: \"▸\";\n",
              "  float: left;\n",
              "  margin-right: 0.25em;\n",
              "  color: var(--sklearn-color-icon);\n",
              "}\n",
              "\n",
              "#sk-container-id-1 label.sk-toggleable__label-arrow:hover:before {\n",
              "  color: var(--sklearn-color-text);\n",
              "}\n",
              "\n",
              "/* Toggleable content - dropdown */\n",
              "\n",
              "#sk-container-id-1 div.sk-toggleable__content {\n",
              "  max-height: 0;\n",
              "  max-width: 0;\n",
              "  overflow: hidden;\n",
              "  text-align: left;\n",
              "  /* unfitted */\n",
              "  background-color: var(--sklearn-color-unfitted-level-0);\n",
              "}\n",
              "\n",
              "#sk-container-id-1 div.sk-toggleable__content.fitted {\n",
              "  /* fitted */\n",
              "  background-color: var(--sklearn-color-fitted-level-0);\n",
              "}\n",
              "\n",
              "#sk-container-id-1 div.sk-toggleable__content pre {\n",
              "  margin: 0.2em;\n",
              "  border-radius: 0.25em;\n",
              "  color: var(--sklearn-color-text);\n",
              "  /* unfitted */\n",
              "  background-color: var(--sklearn-color-unfitted-level-0);\n",
              "}\n",
              "\n",
              "#sk-container-id-1 div.sk-toggleable__content.fitted pre {\n",
              "  /* unfitted */\n",
              "  background-color: var(--sklearn-color-fitted-level-0);\n",
              "}\n",
              "\n",
              "#sk-container-id-1 input.sk-toggleable__control:checked~div.sk-toggleable__content {\n",
              "  /* Expand drop-down */\n",
              "  max-height: 200px;\n",
              "  max-width: 100%;\n",
              "  overflow: auto;\n",
              "}\n",
              "\n",
              "#sk-container-id-1 input.sk-toggleable__control:checked~label.sk-toggleable__label-arrow:before {\n",
              "  content: \"▾\";\n",
              "}\n",
              "\n",
              "/* Pipeline/ColumnTransformer-specific style */\n",
              "\n",
              "#sk-container-id-1 div.sk-label input.sk-toggleable__control:checked~label.sk-toggleable__label {\n",
              "  color: var(--sklearn-color-text);\n",
              "  background-color: var(--sklearn-color-unfitted-level-2);\n",
              "}\n",
              "\n",
              "#sk-container-id-1 div.sk-label.fitted input.sk-toggleable__control:checked~label.sk-toggleable__label {\n",
              "  background-color: var(--sklearn-color-fitted-level-2);\n",
              "}\n",
              "\n",
              "/* Estimator-specific style */\n",
              "\n",
              "/* Colorize estimator box */\n",
              "#sk-container-id-1 div.sk-estimator input.sk-toggleable__control:checked~label.sk-toggleable__label {\n",
              "  /* unfitted */\n",
              "  background-color: var(--sklearn-color-unfitted-level-2);\n",
              "}\n",
              "\n",
              "#sk-container-id-1 div.sk-estimator.fitted input.sk-toggleable__control:checked~label.sk-toggleable__label {\n",
              "  /* fitted */\n",
              "  background-color: var(--sklearn-color-fitted-level-2);\n",
              "}\n",
              "\n",
              "#sk-container-id-1 div.sk-label label.sk-toggleable__label,\n",
              "#sk-container-id-1 div.sk-label label {\n",
              "  /* The background is the default theme color */\n",
              "  color: var(--sklearn-color-text-on-default-background);\n",
              "}\n",
              "\n",
              "/* On hover, darken the color of the background */\n",
              "#sk-container-id-1 div.sk-label:hover label.sk-toggleable__label {\n",
              "  color: var(--sklearn-color-text);\n",
              "  background-color: var(--sklearn-color-unfitted-level-2);\n",
              "}\n",
              "\n",
              "/* Label box, darken color on hover, fitted */\n",
              "#sk-container-id-1 div.sk-label.fitted:hover label.sk-toggleable__label.fitted {\n",
              "  color: var(--sklearn-color-text);\n",
              "  background-color: var(--sklearn-color-fitted-level-2);\n",
              "}\n",
              "\n",
              "/* Estimator label */\n",
              "\n",
              "#sk-container-id-1 div.sk-label label {\n",
              "  font-family: monospace;\n",
              "  font-weight: bold;\n",
              "  display: inline-block;\n",
              "  line-height: 1.2em;\n",
              "}\n",
              "\n",
              "#sk-container-id-1 div.sk-label-container {\n",
              "  text-align: center;\n",
              "}\n",
              "\n",
              "/* Estimator-specific */\n",
              "#sk-container-id-1 div.sk-estimator {\n",
              "  font-family: monospace;\n",
              "  border: 1px dotted var(--sklearn-color-border-box);\n",
              "  border-radius: 0.25em;\n",
              "  box-sizing: border-box;\n",
              "  margin-bottom: 0.5em;\n",
              "  /* unfitted */\n",
              "  background-color: var(--sklearn-color-unfitted-level-0);\n",
              "}\n",
              "\n",
              "#sk-container-id-1 div.sk-estimator.fitted {\n",
              "  /* fitted */\n",
              "  background-color: var(--sklearn-color-fitted-level-0);\n",
              "}\n",
              "\n",
              "/* on hover */\n",
              "#sk-container-id-1 div.sk-estimator:hover {\n",
              "  /* unfitted */\n",
              "  background-color: var(--sklearn-color-unfitted-level-2);\n",
              "}\n",
              "\n",
              "#sk-container-id-1 div.sk-estimator.fitted:hover {\n",
              "  /* fitted */\n",
              "  background-color: var(--sklearn-color-fitted-level-2);\n",
              "}\n",
              "\n",
              "/* Specification for estimator info (e.g. \"i\" and \"?\") */\n",
              "\n",
              "/* Common style for \"i\" and \"?\" */\n",
              "\n",
              ".sk-estimator-doc-link,\n",
              "a:link.sk-estimator-doc-link,\n",
              "a:visited.sk-estimator-doc-link {\n",
              "  float: right;\n",
              "  font-size: smaller;\n",
              "  line-height: 1em;\n",
              "  font-family: monospace;\n",
              "  background-color: var(--sklearn-color-background);\n",
              "  border-radius: 1em;\n",
              "  height: 1em;\n",
              "  width: 1em;\n",
              "  text-decoration: none !important;\n",
              "  margin-left: 0.5em;\n",
              "  text-align: center;\n",
              "  /* unfitted */\n",
              "  border: var(--sklearn-color-unfitted-level-1) 1pt solid;\n",
              "  color: var(--sklearn-color-unfitted-level-1);\n",
              "}\n",
              "\n",
              ".sk-estimator-doc-link.fitted,\n",
              "a:link.sk-estimator-doc-link.fitted,\n",
              "a:visited.sk-estimator-doc-link.fitted {\n",
              "  /* fitted */\n",
              "  border: var(--sklearn-color-fitted-level-1) 1pt solid;\n",
              "  color: var(--sklearn-color-fitted-level-1);\n",
              "}\n",
              "\n",
              "/* On hover */\n",
              "div.sk-estimator:hover .sk-estimator-doc-link:hover,\n",
              ".sk-estimator-doc-link:hover,\n",
              "div.sk-label-container:hover .sk-estimator-doc-link:hover,\n",
              ".sk-estimator-doc-link:hover {\n",
              "  /* unfitted */\n",
              "  background-color: var(--sklearn-color-unfitted-level-3);\n",
              "  color: var(--sklearn-color-background);\n",
              "  text-decoration: none;\n",
              "}\n",
              "\n",
              "div.sk-estimator.fitted:hover .sk-estimator-doc-link.fitted:hover,\n",
              ".sk-estimator-doc-link.fitted:hover,\n",
              "div.sk-label-container:hover .sk-estimator-doc-link.fitted:hover,\n",
              ".sk-estimator-doc-link.fitted:hover {\n",
              "  /* fitted */\n",
              "  background-color: var(--sklearn-color-fitted-level-3);\n",
              "  color: var(--sklearn-color-background);\n",
              "  text-decoration: none;\n",
              "}\n",
              "\n",
              "/* Span, style for the box shown on hovering the info icon */\n",
              ".sk-estimator-doc-link span {\n",
              "  display: none;\n",
              "  z-index: 9999;\n",
              "  position: relative;\n",
              "  font-weight: normal;\n",
              "  right: .2ex;\n",
              "  padding: .5ex;\n",
              "  margin: .5ex;\n",
              "  width: min-content;\n",
              "  min-width: 20ex;\n",
              "  max-width: 50ex;\n",
              "  color: var(--sklearn-color-text);\n",
              "  box-shadow: 2pt 2pt 4pt #999;\n",
              "  /* unfitted */\n",
              "  background: var(--sklearn-color-unfitted-level-0);\n",
              "  border: .5pt solid var(--sklearn-color-unfitted-level-3);\n",
              "}\n",
              "\n",
              ".sk-estimator-doc-link.fitted span {\n",
              "  /* fitted */\n",
              "  background: var(--sklearn-color-fitted-level-0);\n",
              "  border: var(--sklearn-color-fitted-level-3);\n",
              "}\n",
              "\n",
              ".sk-estimator-doc-link:hover span {\n",
              "  display: block;\n",
              "}\n",
              "\n",
              "/* \"?\"-specific style due to the `<a>` HTML tag */\n",
              "\n",
              "#sk-container-id-1 a.estimator_doc_link {\n",
              "  float: right;\n",
              "  font-size: 1rem;\n",
              "  line-height: 1em;\n",
              "  font-family: monospace;\n",
              "  background-color: var(--sklearn-color-background);\n",
              "  border-radius: 1rem;\n",
              "  height: 1rem;\n",
              "  width: 1rem;\n",
              "  text-decoration: none;\n",
              "  /* unfitted */\n",
              "  color: var(--sklearn-color-unfitted-level-1);\n",
              "  border: var(--sklearn-color-unfitted-level-1) 1pt solid;\n",
              "}\n",
              "\n",
              "#sk-container-id-1 a.estimator_doc_link.fitted {\n",
              "  /* fitted */\n",
              "  border: var(--sklearn-color-fitted-level-1) 1pt solid;\n",
              "  color: var(--sklearn-color-fitted-level-1);\n",
              "}\n",
              "\n",
              "/* On hover */\n",
              "#sk-container-id-1 a.estimator_doc_link:hover {\n",
              "  /* unfitted */\n",
              "  background-color: var(--sklearn-color-unfitted-level-3);\n",
              "  color: var(--sklearn-color-background);\n",
              "  text-decoration: none;\n",
              "}\n",
              "\n",
              "#sk-container-id-1 a.estimator_doc_link.fitted:hover {\n",
              "  /* fitted */\n",
              "  background-color: var(--sklearn-color-fitted-level-3);\n",
              "}\n",
              "</style><div id=\"sk-container-id-1\" class=\"sk-top-container\"><div class=\"sk-text-repr-fallback\"><pre>Pipeline(steps=[(&#x27;imputer&#x27;, SimpleImputer()), (&#x27;scaler&#x27;, StandardScaler()),\n",
              "                (&#x27;model&#x27;, RandomForestClassifier())])</pre><b>In a Jupyter environment, please rerun this cell to show the HTML representation or trust the notebook. <br />On GitHub, the HTML representation is unable to render, please try loading this page with nbviewer.org.</b></div><div class=\"sk-container\" hidden><div class=\"sk-item sk-dashed-wrapped\"><div class=\"sk-label-container\"><div class=\"sk-label fitted sk-toggleable\"><input class=\"sk-toggleable__control sk-hidden--visually\" id=\"sk-estimator-id-1\" type=\"checkbox\" ><label for=\"sk-estimator-id-1\" class=\"sk-toggleable__label fitted sk-toggleable__label-arrow\"><div><div>Pipeline</div></div><div><a class=\"sk-estimator-doc-link fitted\" rel=\"noreferrer\" target=\"_blank\" href=\"https://scikit-learn.org/1.6/modules/generated/sklearn.pipeline.Pipeline.html\">?<span>Documentation for Pipeline</span></a><span class=\"sk-estimator-doc-link fitted\">i<span>Fitted</span></span></div></label><div class=\"sk-toggleable__content fitted\"><pre>Pipeline(steps=[(&#x27;imputer&#x27;, SimpleImputer()), (&#x27;scaler&#x27;, StandardScaler()),\n",
              "                (&#x27;model&#x27;, RandomForestClassifier())])</pre></div> </div></div><div class=\"sk-serial\"><div class=\"sk-item\"><div class=\"sk-estimator fitted sk-toggleable\"><input class=\"sk-toggleable__control sk-hidden--visually\" id=\"sk-estimator-id-2\" type=\"checkbox\" ><label for=\"sk-estimator-id-2\" class=\"sk-toggleable__label fitted sk-toggleable__label-arrow\"><div><div>SimpleImputer</div></div><div><a class=\"sk-estimator-doc-link fitted\" rel=\"noreferrer\" target=\"_blank\" href=\"https://scikit-learn.org/1.6/modules/generated/sklearn.impute.SimpleImputer.html\">?<span>Documentation for SimpleImputer</span></a></div></label><div class=\"sk-toggleable__content fitted\"><pre>SimpleImputer()</pre></div> </div></div><div class=\"sk-item\"><div class=\"sk-estimator fitted sk-toggleable\"><input class=\"sk-toggleable__control sk-hidden--visually\" id=\"sk-estimator-id-3\" type=\"checkbox\" ><label for=\"sk-estimator-id-3\" class=\"sk-toggleable__label fitted sk-toggleable__label-arrow\"><div><div>StandardScaler</div></div><div><a class=\"sk-estimator-doc-link fitted\" rel=\"noreferrer\" target=\"_blank\" href=\"https://scikit-learn.org/1.6/modules/generated/sklearn.preprocessing.StandardScaler.html\">?<span>Documentation for StandardScaler</span></a></div></label><div class=\"sk-toggleable__content fitted\"><pre>StandardScaler()</pre></div> </div></div><div class=\"sk-item\"><div class=\"sk-estimator fitted sk-toggleable\"><input class=\"sk-toggleable__control sk-hidden--visually\" id=\"sk-estimator-id-4\" type=\"checkbox\" ><label for=\"sk-estimator-id-4\" class=\"sk-toggleable__label fitted sk-toggleable__label-arrow\"><div><div>RandomForestClassifier</div></div><div><a class=\"sk-estimator-doc-link fitted\" rel=\"noreferrer\" target=\"_blank\" href=\"https://scikit-learn.org/1.6/modules/generated/sklearn.ensemble.RandomForestClassifier.html\">?<span>Documentation for RandomForestClassifier</span></a></div></label><div class=\"sk-toggleable__content fitted\"><pre>RandomForestClassifier()</pre></div> </div></div></div></div></div></div>"
            ]
          },
          "metadata": {},
          "execution_count": 42
        }
      ]
    },
    {
      "cell_type": "code",
      "source": [
        "ypred=pipeline.predict(X_test)"
      ],
      "metadata": {
        "id": "QcB67JEzA66J"
      },
      "execution_count": 43,
      "outputs": []
    },
    {
      "cell_type": "code",
      "source": [
        "joblib.dump(pipeline,'sec_mushroom.joblib')"
      ],
      "metadata": {
        "colab": {
          "base_uri": "https://localhost:8080/"
        },
        "id": "clzdoUnUA_1W",
        "outputId": "bee2b80e-d02a-471d-91c6-68568d17b37e"
      },
      "execution_count": 44,
      "outputs": [
        {
          "output_type": "execute_result",
          "data": {
            "text/plain": [
              "['sec_mushroom.joblib']"
            ]
          },
          "metadata": {},
          "execution_count": 44
        }
      ]
    },
    {
      "cell_type": "code",
      "source": [
        "joblib.dump(pipeline,'sec_mushroom.joblib')"
      ],
      "metadata": {
        "colab": {
          "base_uri": "https://localhost:8080/"
        },
        "id": "DSg4BKikBJJW",
        "outputId": "65df11c0-8bb3-454a-e13e-a36bd74317ce"
      },
      "execution_count": 45,
      "outputs": [
        {
          "output_type": "execute_result",
          "data": {
            "text/plain": [
              "['sec_mushroom.joblib']"
            ]
          },
          "metadata": {},
          "execution_count": 45
        }
      ]
    },
    {
      "cell_type": "markdown",
      "source": [
        "# **Step 15: Hyperparameter tuning**\n",
        "process of searching for the best combination of hyperparameters (settings external to the model) that leads to the best performance on a validation set.\n",
        "\n"
      ],
      "metadata": {
        "id": "GkUuyNjrPjx8"
      }
    },
    {
      "cell_type": "code",
      "source": [
        "\n",
        "param_grid = {\n",
        "    'n_estimators': [50, 100],\n",
        "    'max_depth': [None, 10, 20],\n",
        "    'min_samples_split': [2, 5]\n",
        "}\n",
        "\n",
        "# Initialize the classifier\n",
        "rf = RandomForestClassifier(random_state=42)\n",
        "\n",
        "# Set up GridSearchCV\n",
        "grid_search_rf = GridSearchCV(estimator=rf, param_grid=param_grid,\n",
        "                              cv=3, scoring='accuracy', n_jobs=-1, verbose=1)\n",
        "\n",
        "# Fit on training data\n",
        "grid_search_rf.fit(X_train, y_train)\n",
        "\n",
        "# Print best parameters and accuracy\n",
        "print(\"Best Parameters:\", grid_search_rf.best_params_)\n",
        "print(\"Best Cross-Validation Accuracy:\", grid_search_rf.best_score_)\n"
      ],
      "metadata": {
        "colab": {
          "base_uri": "https://localhost:8080/"
        },
        "id": "y425ni3jIOV0",
        "outputId": "1f1eee45-573e-4255-d9ef-e916c0b81405"
      },
      "execution_count": 46,
      "outputs": [
        {
          "output_type": "stream",
          "name": "stdout",
          "text": [
            "Fitting 3 folds for each of 12 candidates, totalling 36 fits\n"
          ]
        },
        {
          "output_type": "stream",
          "name": "stderr",
          "text": [
            "/usr/local/lib/python3.11/dist-packages/sklearn/base.py:1389: DataConversionWarning: A column-vector y was passed when a 1d array was expected. Please change the shape of y to (n_samples,), for example using ravel().\n",
            "  return fit_method(estimator, *args, **kwargs)\n"
          ]
        },
        {
          "output_type": "stream",
          "name": "stdout",
          "text": [
            "Best Parameters: {'max_depth': 20, 'min_samples_split': 5, 'n_estimators': 100}\n",
            "Best Cross-Validation Accuracy: 0.9950962288152981\n"
          ]
        }
      ]
    },
    {
      "cell_type": "markdown",
      "source": [
        "# **Step 16: Model Application**\n",
        "Applying the model in existing row to check whether the prediction is right or not."
      ],
      "metadata": {
        "id": "HzYJfd_AQXkj"
      }
    },
    {
      "cell_type": "code",
      "source": [
        "# Apply same get_dummies encoding to new data\n",
        "new_data = pd.get_dummies(X_clean.iloc[[18]])  # One-hot encode the single row\n",
        "\n",
        "# Reindex to match training columns, filling missing values with 0\n",
        "new_data = new_data.reindex(columns=X_selected.columns, fill_value=0)\n",
        "\n",
        "# Scale the new data using the same StandardScaler\n",
        "new_data_scaled = scaler.transform(new_data)\n",
        "\n",
        "# Predict with trained model\n",
        "predicted_result = model.predict(new_data_scaled)\n",
        "\n",
        "\n",
        "decoded_result = LE.inverse_transform(predicted_result)\n",
        "actual_class_encoded = y.iloc[4]\n",
        "actual_class_decoded = LE.inverse_transform([actual_class_encoded])\n",
        "\n",
        "print(\"Predicted class (decoded):\", decoded_result[0])\n",
        "print(\"Actual class (true)  :\", actual_class_decoded[0])"
      ],
      "metadata": {
        "colab": {
          "base_uri": "https://localhost:8080/"
        },
        "id": "aXOFMJnqKwbw",
        "outputId": "20769cc1-ee7a-4367-a235-594382a778ce"
      },
      "execution_count": 47,
      "outputs": [
        {
          "output_type": "stream",
          "name": "stdout",
          "text": [
            "Predicted class (decoded): p\n",
            "Actual class (true)  : p\n"
          ]
        },
        {
          "output_type": "stream",
          "name": "stderr",
          "text": [
            "/usr/local/lib/python3.11/dist-packages/sklearn/preprocessing/_label.py:151: DataConversionWarning: A column-vector y was passed when a 1d array was expected. Please change the shape of y to (n_samples, ), for example using ravel().\n",
            "  y = column_or_1d(y, warn=True)\n"
          ]
        }
      ]
    }
  ]
}